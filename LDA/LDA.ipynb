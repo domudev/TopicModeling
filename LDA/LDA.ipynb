{
 "cells": [
  {
   "cell_type": "markdown",
   "metadata": {},
   "source": [
    "# Latent Dirichlet Allocation LDA "
   ]
  },
  {
   "cell_type": "markdown",
   "metadata": {},
   "source": [
    "#### Wikifetcher\n",
    "Raw text from Wikipedia using search terms\n",
    "#### LDAbuilder\n",
    "Run LDA with the given document list (raw text list from Wikifetcher)"
   ]
  },
  {
   "cell_type": "markdown",
   "metadata": {},
   "source": [
    "## Execution\n",
    "Additionally for each execution block the execution time is measured.\n",
    "### Configuration \n",
    "- We need access to Wikipedia for the raw text\n",
    "- Natural Language Toolkit NLTK for tokenization and stemming\n",
    "- Stop_words to remove meaningless words\n",
    "- Gensim for the Latent Dirichlet Allocation LDA implementation."
   ]
  },
  {
   "cell_type": "code",
   "execution_count": 11,
   "metadata": {},
   "outputs": [
    {
     "name": "stdout",
     "output_type": "stream",
     "text": [
      "Requirement already satisfied: gensim==4.1.2 in /opt/python/3.10.8/lib/python3.10/site-packages (from -r ../requirements.txt (line 1)) (4.1.2)\n",
      "Requirement already satisfied: nltk==3.2.5 in /opt/python/3.10.8/lib/python3.10/site-packages (from -r ../requirements.txt (line 2)) (3.2.5)\n",
      "Requirement already satisfied: stop-words==2015.2.23.1 in /opt/python/3.10.8/lib/python3.10/site-packages (from -r ../requirements.txt (line 3)) (2015.2.23.1)\n",
      "Requirement already satisfied: wikipedia==1.4.0 in /opt/python/3.10.8/lib/python3.10/site-packages (from -r ../requirements.txt (line 4)) (1.4.0)\n",
      "Collecting pyldavis==3.4.1 (from -r ../requirements.txt (line 5))\n",
      "  Downloading pyLDAvis-3.4.1-py3-none-any.whl (2.6 MB)\n",
      "\u001b[2K     \u001b[90m━━━━━━━━━━━━━━━━━━━━━━━━━━━━━━━━━━━━━━━━\u001b[0m \u001b[32m2.6/2.6 MB\u001b[0m \u001b[31m34.0 MB/s\u001b[0m eta \u001b[36m0:00:00\u001b[0m00:01\u001b[0m\n",
      "\u001b[?25hRequirement already satisfied: numpy>=1.17.0 in /home/codespace/.local/lib/python3.10/site-packages (from gensim==4.1.2->-r ../requirements.txt (line 1)) (1.25.0)\n",
      "Requirement already satisfied: scipy>=0.18.1 in /home/codespace/.local/lib/python3.10/site-packages (from gensim==4.1.2->-r ../requirements.txt (line 1)) (1.11.1)\n",
      "Requirement already satisfied: smart-open>=1.8.1 in /opt/python/3.10.8/lib/python3.10/site-packages (from gensim==4.1.2->-r ../requirements.txt (line 1)) (6.3.0)\n",
      "Requirement already satisfied: six in /home/codespace/.local/lib/python3.10/site-packages (from nltk==3.2.5->-r ../requirements.txt (line 2)) (1.16.0)\n",
      "Requirement already satisfied: beautifulsoup4 in /home/codespace/.local/lib/python3.10/site-packages (from wikipedia==1.4.0->-r ../requirements.txt (line 4)) (4.12.2)\n",
      "Requirement already satisfied: requests<3.0.0,>=2.0.0 in /home/codespace/.local/lib/python3.10/site-packages (from wikipedia==1.4.0->-r ../requirements.txt (line 4)) (2.31.0)\n",
      "Requirement already satisfied: pandas>=2.0.0 in /home/codespace/.local/lib/python3.10/site-packages (from pyldavis==3.4.1->-r ../requirements.txt (line 5)) (2.0.3)\n",
      "Requirement already satisfied: joblib>=1.2.0 in /home/codespace/.local/lib/python3.10/site-packages (from pyldavis==3.4.1->-r ../requirements.txt (line 5)) (1.3.1)\n",
      "Requirement already satisfied: jinja2 in /home/codespace/.local/lib/python3.10/site-packages (from pyldavis==3.4.1->-r ../requirements.txt (line 5)) (3.1.2)\n",
      "Collecting numexpr (from pyldavis==3.4.1->-r ../requirements.txt (line 5))\n",
      "  Downloading numexpr-2.8.5-cp310-cp310-manylinux_2_17_x86_64.manylinux2014_x86_64.whl (383 kB)\n",
      "\u001b[2K     \u001b[90m━━━━━━━━━━━━━━━━━━━━━━━━━━━━━━━━━━━━━━\u001b[0m \u001b[32m383.2/383.2 kB\u001b[0m \u001b[31m13.6 MB/s\u001b[0m eta \u001b[36m0:00:00\u001b[0m\n",
      "\u001b[?25hCollecting funcy (from pyldavis==3.4.1->-r ../requirements.txt (line 5))\n",
      "  Downloading funcy-2.0-py2.py3-none-any.whl (30 kB)\n",
      "Requirement already satisfied: scikit-learn>=1.0.0 in /home/codespace/.local/lib/python3.10/site-packages (from pyldavis==3.4.1->-r ../requirements.txt (line 5)) (1.3.0)\n",
      "Requirement already satisfied: setuptools in /home/codespace/.local/lib/python3.10/site-packages (from pyldavis==3.4.1->-r ../requirements.txt (line 5)) (68.0.0)\n",
      "Requirement already satisfied: python-dateutil>=2.8.2 in /home/codespace/.local/lib/python3.10/site-packages (from pandas>=2.0.0->pyldavis==3.4.1->-r ../requirements.txt (line 5)) (2.8.2)\n",
      "Requirement already satisfied: pytz>=2020.1 in /home/codespace/.local/lib/python3.10/site-packages (from pandas>=2.0.0->pyldavis==3.4.1->-r ../requirements.txt (line 5)) (2023.3)\n",
      "Requirement already satisfied: tzdata>=2022.1 in /home/codespace/.local/lib/python3.10/site-packages (from pandas>=2.0.0->pyldavis==3.4.1->-r ../requirements.txt (line 5)) (2023.3)\n",
      "Requirement already satisfied: charset-normalizer<4,>=2 in /home/codespace/.local/lib/python3.10/site-packages (from requests<3.0.0,>=2.0.0->wikipedia==1.4.0->-r ../requirements.txt (line 4)) (3.1.0)\n",
      "Requirement already satisfied: idna<4,>=2.5 in /home/codespace/.local/lib/python3.10/site-packages (from requests<3.0.0,>=2.0.0->wikipedia==1.4.0->-r ../requirements.txt (line 4)) (3.4)\n",
      "Requirement already satisfied: urllib3<3,>=1.21.1 in /home/codespace/.local/lib/python3.10/site-packages (from requests<3.0.0,>=2.0.0->wikipedia==1.4.0->-r ../requirements.txt (line 4)) (2.0.3)\n",
      "Requirement already satisfied: certifi>=2017.4.17 in /home/codespace/.local/lib/python3.10/site-packages (from requests<3.0.0,>=2.0.0->wikipedia==1.4.0->-r ../requirements.txt (line 4)) (2023.5.7)\n",
      "Requirement already satisfied: threadpoolctl>=2.0.0 in /home/codespace/.local/lib/python3.10/site-packages (from scikit-learn>=1.0.0->pyldavis==3.4.1->-r ../requirements.txt (line 5)) (3.1.0)\n",
      "Requirement already satisfied: soupsieve>1.2 in /home/codespace/.local/lib/python3.10/site-packages (from beautifulsoup4->wikipedia==1.4.0->-r ../requirements.txt (line 4)) (2.4.1)\n",
      "Requirement already satisfied: MarkupSafe>=2.0 in /home/codespace/.local/lib/python3.10/site-packages (from jinja2->pyldavis==3.4.1->-r ../requirements.txt (line 5)) (2.1.3)\n",
      "Installing collected packages: funcy, numexpr, pyldavis\n",
      "Successfully installed funcy-2.0 numexpr-2.8.5 pyldavis-3.4.1\n",
      "\n",
      "\u001b[1m[\u001b[0m\u001b[34;49mnotice\u001b[0m\u001b[1;39;49m]\u001b[0m\u001b[39;49m A new release of pip is available: \u001b[0m\u001b[31;49m23.1.2\u001b[0m\u001b[39;49m -> \u001b[0m\u001b[32;49m23.2.1\u001b[0m\n",
      "\u001b[1m[\u001b[0m\u001b[34;49mnotice\u001b[0m\u001b[1;39;49m]\u001b[0m\u001b[39;49m To update, run: \u001b[0m\u001b[32;49mpip install --upgrade pip\u001b[0m\n",
      "Note: you may need to restart the kernel to use updated packages.\n",
      "Package                   Version\n",
      "------------------------- -----------\n",
      "anyio                     3.7.1\n",
      "argon2-cffi               21.3.0\n",
      "argon2-cffi-bindings      21.2.0\n",
      "arrow                     1.2.3\n",
      "asttokens                 2.2.1\n",
      "async-lru                 2.0.2\n",
      "attrs                     23.1.0\n",
      "Babel                     2.12.1\n",
      "backcall                  0.2.0\n",
      "beautifulsoup4            4.12.2\n",
      "bleach                    6.0.0\n",
      "certifi                   2023.5.7\n",
      "cffi                      1.15.1\n",
      "charset-normalizer        3.1.0\n",
      "cmake                     3.26.4\n",
      "colorama                  0.4.6\n",
      "comm                      0.1.3\n",
      "contourpy                 1.1.0\n",
      "cryptography              41.0.1\n",
      "cycler                    0.11.0\n",
      "debugpy                   1.6.7\n",
      "decorator                 5.1.1\n",
      "defusedxml                0.7.1\n",
      "exceptiongroup            1.1.2\n",
      "executing                 1.2.0\n",
      "fastjsonschema            2.17.1\n",
      "filelock                  3.12.2\n",
      "fonttools                 4.40.0\n",
      "fqdn                      1.5.1\n",
      "funcy                     2.0\n",
      "gensim                    4.1.2\n",
      "gitdb                     4.0.10\n",
      "GitPython                 3.1.31\n",
      "idna                      3.4\n",
      "ipykernel                 6.24.0\n",
      "ipython                   8.14.0\n",
      "isoduration               20.11.0\n",
      "jedi                      0.18.2\n",
      "Jinja2                    3.1.2\n",
      "joblib                    1.3.1\n",
      "json5                     0.9.14\n",
      "jsonpointer               2.4\n",
      "jsonschema                4.18.0\n",
      "jsonschema-specifications 2023.6.1\n",
      "jupyter_client            8.3.0\n",
      "jupyter_core              5.3.1\n",
      "jupyter-events            0.6.3\n",
      "jupyter-lsp               2.2.0\n",
      "jupyter_server            2.7.0\n",
      "jupyter-server-mathjax    0.2.6\n",
      "jupyter_server_terminals  0.4.4\n",
      "jupyterlab                4.0.2\n",
      "jupyterlab-git            0.41.0\n",
      "jupyterlab-pygments       0.2.2\n",
      "jupyterlab_server         2.23.0\n",
      "kiwisolver                1.4.4\n",
      "lit                       16.0.6\n",
      "MarkupSafe                2.1.3\n",
      "matplotlib                3.7.2\n",
      "matplotlib-inline         0.1.6\n",
      "mistune                   3.0.1\n",
      "mpmath                    1.3.0\n",
      "nbclient                  0.8.0\n",
      "nbconvert                 7.6.0\n",
      "nbdime                    3.2.1\n",
      "nbformat                  5.9.0\n",
      "nest-asyncio              1.5.6\n",
      "networkx                  3.1\n",
      "nltk                      3.2.5\n",
      "notebook_shim             0.2.3\n",
      "numexpr                   2.8.5\n",
      "numpy                     1.25.0\n",
      "nvidia-cublas-cu11        11.10.3.66\n",
      "nvidia-cuda-cupti-cu11    11.7.101\n",
      "nvidia-cuda-nvrtc-cu11    11.7.99\n",
      "nvidia-cuda-runtime-cu11  11.7.99\n",
      "nvidia-cudnn-cu11         8.5.0.96\n",
      "nvidia-cufft-cu11         10.9.0.58\n",
      "nvidia-curand-cu11        10.2.10.91\n",
      "nvidia-cusolver-cu11      11.4.0.1\n",
      "nvidia-cusparse-cu11      11.7.4.91\n",
      "nvidia-nccl-cu11          2.14.3\n",
      "nvidia-nvtx-cu11          11.7.91\n",
      "overrides                 7.3.1\n",
      "packaging                 23.1\n",
      "pandas                    2.0.3\n",
      "pandocfilters             1.5.0\n",
      "parso                     0.8.3\n",
      "pexpect                   4.8.0\n",
      "pickleshare               0.7.5\n",
      "Pillow                    10.0.0\n",
      "pip                       23.1.2\n",
      "platformdirs              3.8.0\n",
      "plotly                    5.15.0\n",
      "prometheus-client         0.17.0\n",
      "prompt-toolkit            3.0.39\n",
      "psutil                    5.9.5\n",
      "ptyprocess                0.7.0\n",
      "pure-eval                 0.2.2\n",
      "pycparser                 2.21\n",
      "Pygments                  2.15.1\n",
      "pyLDAvis                  3.4.1\n",
      "pyparsing                 3.0.9\n",
      "python-dateutil           2.8.2\n",
      "python-json-logger        2.0.7\n",
      "pytz                      2023.3\n",
      "PyYAML                    6.0\n",
      "pyzmq                     25.1.0\n",
      "referencing               0.29.1\n",
      "requests                  2.31.0\n",
      "rfc3339-validator         0.1.4\n",
      "rfc3986-validator         0.1.1\n",
      "rpds-py                   0.8.8\n",
      "scikit-learn              1.3.0\n",
      "scipy                     1.11.1\n",
      "seaborn                   0.12.2\n",
      "Send2Trash                1.8.2\n",
      "setuptools                68.0.0\n",
      "six                       1.16.0\n",
      "smart-open                6.3.0\n",
      "smmap                     5.0.0\n",
      "sniffio                   1.3.0\n",
      "soupsieve                 2.4.1\n",
      "stack-data                0.6.2\n",
      "stop-words                2015.2.23.1\n",
      "sympy                     1.12\n",
      "tenacity                  8.2.2\n",
      "terminado                 0.17.1\n",
      "threadpoolctl             3.1.0\n",
      "tinycss2                  1.2.1\n",
      "tomli                     2.0.1\n",
      "torch                     2.0.1\n",
      "tornado                   6.3.2\n",
      "traitlets                 5.9.0\n",
      "triton                    2.0.0\n",
      "typing_extensions         4.7.1\n",
      "tzdata                    2023.3\n",
      "uri-template              1.3.0\n",
      "urllib3                   2.0.3\n",
      "wcwidth                   0.2.6\n",
      "webcolors                 1.13\n",
      "webencodings              0.5.1\n",
      "websocket-client          1.6.1\n",
      "wheel                     0.38.4\n",
      "wikipedia                 1.4.0\n",
      "Wikipedia-API             0.5.4\n",
      "\n",
      "\u001b[1m[\u001b[0m\u001b[34;49mnotice\u001b[0m\u001b[1;39;49m]\u001b[0m\u001b[39;49m A new release of pip is available: \u001b[0m\u001b[31;49m23.1.2\u001b[0m\u001b[39;49m -> \u001b[0m\u001b[32;49m23.2.1\u001b[0m\n",
      "\u001b[1m[\u001b[0m\u001b[34;49mnotice\u001b[0m\u001b[1;39;49m]\u001b[0m\u001b[39;49m To update, run: \u001b[0m\u001b[32;49mpip install --upgrade pip\u001b[0m\n",
      "Note: you may need to restart the kernel to use updated packages.\n"
     ]
    }
   ],
   "source": [
    "%pip install -r ../requirements.txt\n",
    "%pip list"
   ]
  },
  {
   "cell_type": "code",
   "execution_count": 3,
   "metadata": {},
   "outputs": [
    {
     "name": "stdout",
     "output_type": "stream",
     "text": [
      "Execution Time: 0.003447 s\n"
     ]
    }
   ],
   "source": [
    "import wikipedia\n",
    "import time\n",
    "from nltk.tokenize import RegexpTokenizer\n",
    "from stop_words import get_stop_words\n",
    "from nltk.stem.porter import PorterStemmer\n",
    "import re\n",
    "import warnings\n",
    "warnings.filterwarnings(action='ignore', category=UserWarning, module='gensim')\n",
    "\n",
    "start = time.time()\n",
    "\n",
    "sentence_pat = re.compile(r'([A-Z][^\\.!?]*[\\.!?])', re.M)\n",
    "tokenizer = RegexpTokenizer(r'\\w+')\n",
    "\n",
    "# Create english stop words list\n",
    "en_stop = get_stop_words('en')\n",
    "p_stemmer = PorterStemmer()\n",
    "\n",
    "doc_list = []\n",
    "wikipedia.set_lang('en')\n",
    "\n",
    "end = time.time()\n",
    "print('Execution Time: %f' %(end-start) + ' s')"
   ]
  },
  {
   "cell_type": "markdown",
   "metadata": {},
   "source": [
    "### Wikipedia Content\n",
    "Using search terms, we retrieve the raw content from Wikipedia.Then the content is separated into sentences, which are added to the document list."
   ]
  },
  {
   "cell_type": "code",
   "execution_count": 4,
   "metadata": {},
   "outputs": [
    {
     "name": "stdout",
     "output_type": "stream",
     "text": [
      "Nature, in the broadest sense, is the physical world or universe. \"Nature\" can refer to the phenomena of the physical world, and also to life in general. The study of nature is a large, if not the only, part of science. Although humans are part of nature, human activity is often understood as a separate category from other natural phenomena.The word nature is borrowed from the Old French nature and is derived from the Latin word natura, or \"essential qualities, innate disposition\", and in ancient times, literally meant \"birth\". In ancient philosophy, natura is mostly used as the Latin translation of the Greek word physis (φύσις), which originally related to the intrinsic characteristics of plants, animals, and other features of the world to develop of their own accord.\n",
      "The concept of nature as a whole, the physical universe, is one of several expansions of the original notion; it began with certain core applications of the word φύσις by pre-Socratic philosophers (though this word had a...\n",
      "---\n",
      "A volcano is a rupture in the crust of a planetary-mass object, such as Earth, that allows hot lava, volcanic ash, and gases to escape from a magma chamber below the surface.\n",
      "On Earth, volcanoes are most often found where tectonic plates are diverging or converging, and most are found underwater. For example, a mid-ocean ridge, such as the Mid-Atlantic Ridge, has volcanoes caused by divergent tectonic plates whereas the Pacific Ring of Fire has volcanoes caused by convergent tectonic plates. Volcanoes can also form where there is stretching and thinning of the crust's plates, such as in the East African Rift and the Wells Gray-Clearwater volcanic field and Rio Grande rift in North America. Volcanism away from plate boundaries has been postulated to arise from upwelling diapirs from the core–mantle boundary, 3,000 kilometers (1,900 mi) deep in the Earth. This results in hotspot volcanism, of which the Hawaiian hotspot is an example.  Volcanoes are usually not created where two tectonic ...\n",
      "---\n",
      "The ocean (also known as the sea or the world ocean) is a body of salt water that covers approximately 70.8% of the Earth and contains 97% of Earth's water. The term ocean also refers to any of the large bodies of water into which the world ocean is conventionally divided. Distinct names are used to identify five different areas of the ocean: Pacific (the largest), Atlantic, Indian, Southern, and Arctic (the smallest). Seawater covers approximately 361,000,000 km2 (139,000,000 sq mi) of the planet. The ocean is the primary component of the Earth's hydrosphere, and thus essential to life on Earth. The ocean influences climate and weather patterns, the carbon cycle, and the water cycle by acting as a huge heat reservoir.\n",
      "Oceanographers split the ocean into vertical and horizontal zones based on physical and biological conditions. The pelagic zone is the open ocean's water column from the surface to the ocean floor. The water column is further divided into zones based on depth and the amo...\n",
      "---\n",
      "A landscape is the visible features of an area of land, its landforms, and how they integrate with natural or man-made features, often considered in terms of their aesthetic appeal. A landscape includes the physical elements of geophysically defined landforms such as (ice-capped) mountains, hills, water bodies such as rivers, lakes, ponds and the sea, living elements of land cover including indigenous vegetation, human elements including different forms of land use, buildings, and structures, and transitory elements such as lighting and weather conditions. Combining both their physical origins and the cultural overlay of human presence, often created over millennia, landscapes reflect a living synthesis of people and place that is vital to local and national identity.\n",
      "The character of a landscape helps define the self-image of the people who inhabit it and a sense of place that differentiates one region from other regions. It is the dynamic backdrop to people's lives. Landscape can be ...\n",
      "---\n",
      "Death is the irreversible cessation of all biological functions that sustain an organism. For organisms with a brain, death can also be defined as the irreversible cessation of functioning of the whole brain, including the brainstem, and brain death is sometimes used as a legal definition of death. The remains of a former organism normally begin to decompose shortly after death. Death is an inevitable process that eventually occurs in all organisms. Some organisms, such as Turritopsis dohrnii, are biologically immortal. However, they can still die from other means than aging.Figuring out when someone is dead has been a problem. Initially, there was the definition of death when breathing and the heartbeat ceased. However, the spread of CPR no longer meant it was irreversible. Brain death was the next option, which fractured between different definitions. Some people believe that all brain functions must cease. Some believe that even if the brainstem is still alive, their personality and...\n",
      "---\n",
      "Animals are multicellular, eukaryotic organisms in the biological kingdom Animalia. With few exceptions, animals consume organic material, breathe oxygen, have myocytes and are able to move, can reproduce sexually, and grow from a hollow sphere of cells, the blastula, during embryonic development. As of 2022, 2.16 million living animal species have been described—of which around 1.05 million are insects, over 85,000 are molluscs, and around 65,000 are vertebrates—but it has been estimated there are around 7.77 million animal species in total. Animals range in length from 8.5 micrometres (0.00033 in) to 33.6 metres (110 ft). They have complex interactions with each other and their environments, forming intricate food webs. The scientific study of animals is known as zoology.\n",
      "Most living animal species are in Bilateria, a clade whose members have a bilaterally symmetric body plan. The Bilateria include the protostomes, containing animals such as nematodes, arthropods, flatworms, annelids...\n",
      "---\n",
      "Execution. Time: 6.695700 s\n"
     ]
    }
   ],
   "source": [
    "def get_page(name):\n",
    "    first_found = wikipedia.search(name)[0]\n",
    "    try:\n",
    "        return(wikipedia.page(first_found).content)\n",
    "    except wikipedia.exceptions.DisambiguationError as e:\n",
    "        return(wikipedia.page(e.options[0]).content)\n",
    "    \n",
    "start = time.time()\n",
    "\n",
    "search_terms = ['Nature', 'Volcano', 'Ocean', 'Landscape', 'Earth', 'Animals']\n",
    "separator = '== References =='\n",
    "for term in search_terms:\n",
    "    full_content = get_page(term).split(separator, 1)[0]\n",
    "    # sentence_list = sentence_pat.findall(full_content)\n",
    "    #for sentence in sentence_list:\n",
    "    doc_list.append(full_content)\n",
    "\n",
    "    print(full_content[0:1000] + '...')\n",
    "    print('---')\n",
    "\n",
    "end = time.time()\n",
    "print('Execution. Time: %f' %(end-start) + ' s')"
   ]
  },
  {
   "cell_type": "markdown",
   "metadata": {},
   "source": [
    "### Preprocessing\n",
    "The text is now tokenized, stemmed, useless words are removed"
   ]
  },
  {
   "cell_type": "code",
   "execution_count": 5,
   "metadata": {
    "collapsed": true
   },
   "outputs": [],
   "source": [
    "num_topics = 5\n",
    "num_words_per_topic = 20\n",
    "texts = []"
   ]
  },
  {
   "cell_type": "code",
   "execution_count": 6,
   "metadata": {},
   "outputs": [
    {
     "name": "stdout",
     "output_type": "stream",
     "text": [
      "0    [nature, broadest, sense, physical, world, uni...\n",
      "1    [volcano, rupture, crust, planetary, mass, obj...\n",
      "2    [ocean, also, known, sea, world, ocean, body, ...\n",
      "3    [landscape, visible, features, area, land, lan...\n",
      "4    [death, irreversible, cessation, biological, f...\n",
      "5    [animals, multicellular, eukaryotic, organisms...\n",
      "dtype: object\n",
      "Execution Time: 0.106811 s\n"
     ]
    }
   ],
   "source": [
    "import pandas as pd\n",
    "\n",
    "start = time.time()\n",
    "\n",
    "for doc in doc_list:\n",
    "    raw = doc.lower()\n",
    "    # Create tokens\n",
    "    tokens = tokenizer.tokenize(raw)\n",
    "    # Remove useless info\n",
    "    stopped_tokens = [i for i in tokens if not i in en_stop]\n",
    "    # stemmed tokens - duplicate removal and transformation to base form (optional)\n",
    "    # stemmed_tokens = [p_stemmer.stem(i) for i in stopped_tokens]\n",
    "    texts.append(stopped_tokens)\n",
    "output_preprocessed = pd.Series(texts)\n",
    "\n",
    "print(output_preprocessed)\n",
    "\n",
    "end = time.time()\n",
    "print('Execution Time: %f' %(end-start) + ' s')"
   ]
  },
  {
   "cell_type": "markdown",
   "metadata": {},
   "source": [
    "### Dictionary and vectors\n",
    "In this section, we will now create the bag-of-words corpus. The vectors will be needed later for the LDA model."
   ]
  },
  {
   "cell_type": "code",
   "execution_count": 7,
   "metadata": {},
   "outputs": [
    {
     "name": "stdout",
     "output_type": "stream",
     "text": [
      "Dictionary(6141 unique tokens: ['0', '000', '001', '01186', '020']...)\n",
      "---\n",
      "0    [(0, 2), (1, 1), (2, 1), (3, 1), (4, 1), (5, 1...\n",
      "1    [(0, 1), (1, 6), (7, 8), (8, 2), (9, 1), (22, ...\n",
      "2    [(0, 2), (1, 29), (7, 13), (8, 7), (9, 6), (14...\n",
      "3    [(24, 1), (35, 1), (66, 1), (69, 2), (70, 1), ...\n",
      "4    [(1, 9), (7, 4), (9, 2), (14, 2), (16, 3), (22...\n",
      "5    [(0, 2), (1, 7), (7, 6), (8, 3), (9, 1), (14, ...\n",
      "dtype: object\n",
      "Execution Time: 0.094048 s\n"
     ]
    }
   ],
   "source": [
    "from gensim.corpora import Dictionary\n",
    "\n",
    "start = time.time()\n",
    "\n",
    "dictionary = Dictionary(texts)\n",
    "# convert dictionary to bag-of-words\n",
    "# corpus is a list of vectors - each document vector is a series of tuples\n",
    "corpus = [dictionary.doc2bow(text) for text in texts]\n",
    "\n",
    "output_vectors = pd.Series(corpus)\n",
    "\n",
    "print(dictionary)\n",
    "print('---')\n",
    "print(output_vectors)\n",
    "\n",
    "end = time.time()\n",
    "print('Execution Time: %f' %(end-start) + ' s')"
   ]
  },
  {
   "cell_type": "markdown",
   "metadata": {},
   "source": [
    "### LDA model\n",
    "Finally, the LDA model can be applied. The transfer parameters for this are the list of vectors, the number of topics, the dictionary, and the update rate.\n",
    "In the training phase, a higher update rate `>= 20` should be selected."
   ]
  },
  {
   "cell_type": "code",
   "execution_count": 10,
   "metadata": {},
   "outputs": [
    {
     "name": "stdout",
     "output_type": "stream",
     "text": [
      "0\n",
      "---\n",
      "0.012*\"nature\" + 0.010*\"life\" + 0.010*\"earth\" + 0.008*\"water\" + 0.008*\"human\" + 0.007*\"natural\" + 0.005*\"surface\" + 0.005*\"can\" + 0.004*\"also\" + 0.004*\"s\" + 0.004*\"species\" + 0.004*\"animals\" + 0.004*\"ocean\" + 0.003*\"years\" + 0.003*\"million\" + 0.003*\"within\" + 0.003*\"world\" + 0.003*\"several\" + 0.003*\"part\" + 0.003*\"generally\"\n",
      "---\n",
      "1\n",
      "---\n",
      "0.022*\"ocean\" + 0.013*\"water\" + 0.008*\"surface\" + 0.008*\"volcanoes\" + 0.008*\"volcanic\" + 0.008*\"s\" + 0.008*\"earth\" + 0.006*\"can\" + 0.006*\"eruptions\" + 0.005*\"oceans\" + 0.004*\"volcano\" + 0.004*\"also\" + 0.004*\"lava\" + 0.004*\"sea\" + 0.004*\"carbon\" + 0.004*\"may\" + 0.004*\"high\" + 0.004*\"temperature\" + 0.003*\"000\" + 0.003*\"zone\"\n",
      "---\n",
      "2\n",
      "---\n",
      "0.023*\"death\" + 0.013*\"animals\" + 0.006*\"life\" + 0.006*\"may\" + 0.005*\"can\" + 0.005*\"animal\" + 0.005*\"body\" + 0.005*\"people\" + 0.005*\"one\" + 0.004*\"brain\" + 0.004*\"s\" + 0.004*\"dead\" + 0.004*\"many\" + 0.004*\"also\" + 0.003*\"species\" + 0.003*\"person\" + 0.003*\"million\" + 0.003*\"aging\" + 0.003*\"medical\" + 0.003*\"definition\"\n",
      "---\n",
      "3\n",
      "---\n",
      "0.000*\"death\" + 0.000*\"s\" + 0.000*\"water\" + 0.000*\"landscape\" + 0.000*\"ocean\" + 0.000*\"can\" + 0.000*\"volcanoes\" + 0.000*\"life\" + 0.000*\"volcanic\" + 0.000*\"animals\" + 0.000*\"surface\" + 0.000*\"may\" + 0.000*\"many\" + 0.000*\"human\" + 0.000*\"earth\" + 0.000*\"nature\" + 0.000*\"also\" + 0.000*\"natural\" + 0.000*\"one\" + 0.000*\"eruptions\"\n",
      "---\n",
      "4\n",
      "---\n",
      "0.037*\"landscape\" + 0.009*\"landscapes\" + 0.007*\"s\" + 0.006*\"painting\" + 0.005*\"century\" + 0.005*\"poetry\" + 0.004*\"human\" + 0.004*\"land\" + 0.004*\"chinese\" + 0.004*\"cultural\" + 0.004*\"english\" + 0.004*\"also\" + 0.004*\"natural\" + 0.003*\"art\" + 0.003*\"people\" + 0.003*\"garden\" + 0.003*\"gardens\" + 0.003*\"can\" + 0.003*\"term\" + 0.003*\"earth\"\n",
      "---\n",
      "Execution Time: 4.709868 s\n"
     ]
    }
   ],
   "source": [
    "from gensim.models.ldamodel import LdaModel\n",
    "\n",
    "start = time.time()\n",
    "\n",
    "# Apply LDA model\n",
    "ldamodel = LdaModel(corpus, num_topics=num_topics, id2word = dictionary, passes=50)\n",
    "lda = ldamodel.print_topics(num_topics=num_topics, num_words=num_words_per_topic)\n",
    "    \n",
    "for topic in lda:\n",
    "    for entry in topic:\n",
    "        print(entry)\n",
    "        print('---')\n",
    "\n",
    "end = time.time()\n",
    "print('Execution Time: %f' %(end-start) + ' s')"
   ]
  },
  {
   "cell_type": "markdown",
   "metadata": {},
   "source": [
    "## Visualization\n",
    "with `pyLDAvis`"
   ]
  },
  {
   "cell_type": "code",
   "execution_count": 12,
   "metadata": {},
   "outputs": [
    {
     "name": "stdout",
     "output_type": "stream",
     "text": [
      "Execution Time: 3.139632 s\n"
     ]
    }
   ],
   "source": [
    "import pyLDAvis.gensim\n",
    "# ignore dprecation warnings for pyLDAvis\n",
    "warnings.simplefilter(\"ignore\", DeprecationWarning)\n",
    "    \n",
    "start = time.time()\n",
    "pyLDAvis.enable_notebook()\n",
    "\n",
    "vis_data = pyLDAvis.gensim.prepare(ldamodel, corpus, dictionary)\n",
    "\n",
    "end = time.time()\n",
    "print('Execution Time: %f' %(end-start) + ' s')"
   ]
  },
  {
   "cell_type": "code",
   "execution_count": 13,
   "metadata": {},
   "outputs": [
    {
     "data": {
      "text/html": [
       "\n",
       "<link rel=\"stylesheet\" type=\"text/css\" href=\"https://cdn.jsdelivr.net/gh/bmabey/pyLDAvis@3.4.0/pyLDAvis/js/ldavis.v1.0.0.css\">\n",
       "\n",
       "\n",
       "<div id=\"ldavis_el21138139812576306992840066731\" style=\"background-color:white;\"></div>\n",
       "<script type=\"text/javascript\">\n",
       "\n",
       "var ldavis_el21138139812576306992840066731_data = {\"mdsDat\": {\"x\": [0.17469378703815094, -0.07784150793911133, 0.032787382491514645, -0.09705832329336078, -0.03258133829719363], \"y\": [-0.008253700397608416, 0.14669219810982087, -0.004594634515664815, -0.13416331327039982, 0.00031945007385226104], \"topics\": [1, 2, 3, 4, 5], \"cluster\": [1, 1, 1, 1, 1], \"Freq\": [39.70938796405595, 29.253296679712097, 16.163493339694426, 14.86855167037806, 0.005270346159470422]}, \"tinfo\": {\"Term\": [\"landscape\", \"death\", \"ocean\", \"animals\", \"nature\", \"volcanoes\", \"landscapes\", \"volcanic\", \"life\", \"water\", \"eruptions\", \"earth\", \"natural\", \"brain\", \"painting\", \"human\", \"surface\", \"dead\", \"poetry\", \"oceans\", \"century\", \"magma\", \"animal\", \"depth\", \"carbon\", \"species\", \"tidal\", \"body\", \"volcano\", \"aging\", \"eruptions\", \"magma\", \"depth\", \"volcanoes\", \"tidal\", \"eruption\", \"waves\", \"plate\", \"ph\", \"silica\", \"dissolved\", \"volcanic\", \"waters\", \"explosive\", \"dioxide\", \"mafic\", \"magmas\", \"forces\", \"lavas\", \"density\", \"mount\", \"volcanism\", \"photic\", \"submarine\", \"caused\", \"tides\", \"ions\", \"carbon\", \"seawater\", \"felsic\", \"ocean\", \"high\", \"deep\", \"salinity\", \"lava\", \"zone\", \"wind\", \"oceanic\", \"flows\", \"gases\", \"volcano\", \"meters\", \"oceans\", \"water\", \"surface\", \"marine\", \"temperature\", \"currents\", \"sea\", \"earth\", \"s\", \"can\", \"000\", \"global\", \"also\", \"activity\", \"may\", \"death\", \"brain\", \"dead\", \"aging\", \"medical\", \"die\", \"cessation\", \"soul\", \"irreversible\", \"organism\", \"afterlife\", \"deaths\", \"abortion\", \"person\", \"mortality\", \"disease\", \"organ\", \"molluscs\", \"protostomes\", \"vertebrates\", \"died\", \"suicide\", \"miscarriage\", \"insects\", \"phylogeny\", \"bilateria\", \"senescence\", \"lifespan\", \"functioning\", \"kingdom\", \"phyla\", \"animals\", \"tissues\", \"animal\", \"cultures\", \"consciousness\", \"body\", \"sponges\", \"definition\", \"cells\", \"people\", \"may\", \"life\", \"species\", \"one\", \"million\", \"can\", \"considered\", \"many\", \"organisms\", \"also\", \"used\", \"s\", \"process\", \"including\", \"living\", \"human\", \"flora\", \"universe\", \"streams\", \"extremes\", \"university\", \"wildlife\", \"observable\", \"biotic\", \"71\", \"possessed\", \"allowed\", \"broke\", \"doi\", \"conservation\", \"substance\", \"press\", \"nature\", \"lakes\", \"outer\", \"rapidly\", \"rays\", \"reality\", \"ultraviolet\", \"preserves\", \"cambridge\", \"unit\", \"physics\", \"employ\", \"broadest\", \"analogs\", \"space\", \"ponds\", \"wilderness\", \"plant\", \"terrain\", \"native\", \"ecosystem\", \"natural\", \"variations\", \"liquid\", \"extinction\", \"geology\", \"life\", \"human\", \"environment\", \"earth\", \"plants\", \"weather\", \"began\", \"laws\", \"species\", \"generally\", \"energy\", \"several\", \"atmosphere\", \"part\", \"water\", \"within\", \"million\", \"years\", \"ago\", \"surface\", \"also\", \"can\", \"s\", \"climate\", \"world\", \"animals\", \"forms\", \"ocean\", \"global\", \"many\", \"landscapes\", \"landscape\", \"topographical\", \"painting\", \"archaeology\", \"19th\", \"architecture\", \"painters\", \"picturesque\", \"management\", \"poetry\", \"scenery\", \"poet\", \"genre\", \"pastoral\", \"garden\", \"poem\", \"aboriginal\", \"sublime\", \"scott\", \"integrated\", \"romanticism\", \"artists\", \"britain\", \"influential\", \"emphasis\", \"poems\", \"rural\", \"design\", \"countryside\", \"chinese\", \"gardens\", \"english\", \"john\", \"cultural\", \"century\", \"works\", \"art\", \"europe\", \"geography\", \"romantic\", \"urban\", \"land\", \"ecology\", \"paintings\", \"s\", \"area\", \"term\", \"human\", \"natural\", \"science\", \"people\", \"physical\", \"also\", \"processes\", \"created\", \"within\", \"can\", \"earth\", \"many\", \"surface\", \"early\", \"harmonic\", \"rules\", \"subgenres\", \"intention\", \"p\", \"politics\", \"speech\", \"dyer\", \"background\", \"powys\", \"isaak\", \"golden\", \"drew\", \"softscape\", \"loosely\", \"1885\", \"viewers\", \"auden\", \"disappearance\", \"paying\", \"apt\", \"geosystems\", \"unep\", \"sweeps\", \"invented\", \"peaceful\", \"backed\", \"pinyin\", \"sir\", \"exemplified\", \"concerns\", \"death\", \"s\", \"water\", \"landscape\", \"ocean\", \"can\", \"volcanoes\", \"life\", \"volcanic\", \"animals\", \"surface\", \"may\", \"many\", \"human\", \"earth\", \"nature\", \"also\", \"natural\", \"one\", \"eruptions\", \"activity\", \"form\", \"large\", \"million\", \"body\", \"volcano\", \"species\", \"including\", \"two\", \"sea\"], \"Freq\": [129.0, 156.0, 209.0, 104.0, 56.0, 73.0, 30.0, 75.0, 95.0, 159.0, 52.0, 116.0, 49.0, 29.0, 20.0, 73.0, 105.0, 27.0, 20.0, 53.0, 30.0, 30.0, 41.0, 28.0, 36.0, 40.0, 27.0, 49.0, 42.0, 20.0, 52.13912158553606, 30.120448540970667, 28.358950232194562, 72.39636793319785, 26.597460348344637, 23.074472155718603, 22.19372826690941, 16.02849787669808, 16.02849261111922, 15.147741350499622, 15.147741350499622, 72.3963510833455, 28.35897761320464, 10.744002950369765, 27.478235830626993, 9.863253795981713, 9.863251689750168, 9.863253795981713, 9.863250636634396, 9.863254849097485, 8.982503588477888, 8.98250464159366, 8.98250464159366, 8.982503588477888, 8.982503588477888, 8.982503588477888, 8.982503588477888, 34.52420379095288, 21.31299490925794, 8.101753907531949, 196.581666970445, 31.882014249156192, 28.35900710044626, 28.35897340074155, 35.40500244178222, 31.001242979336922, 23.074516386581035, 22.19373879806713, 21.312990696794852, 24.836012589125595, 37.16646073215899, 20.432303676237357, 45.973924895029434, 119.95698023751851, 76.80026219446198, 27.478320079888764, 31.881991080609204, 28.35897340074155, 34.5243091025301, 67.99271799479286, 71.51563457554637, 56.5429021102968, 31.00126614788391, 27.478246361784713, 37.1664565196959, 28.35899656928854, 34.524197472258244, 155.5828525689742, 28.88606799322551, 27.196772856641786, 19.594966464813385, 17.905672879858116, 13.682442796541077, 11.993149211585807, 11.148498540037037, 10.30385717825899, 9.459209609967129, 9.459209609967129, 9.459208834152903, 9.459208834152903, 20.43963265264669, 7.769914473383406, 7.769914473383406, 7.769914473383406, 7.769902836170004, 7.769902060355777, 7.769902060355777, 6.925266905091545, 6.925266129277318, 6.925265353463091, 6.925257595320823, 6.92525604369237, 6.925255267878143, 6.080617397264116, 6.080616233542776, 6.080616233542776, 6.080612742378755, 17.061042379479243, 87.16661366206003, 11.148504746550852, 34.798641313608336, 10.303868039658166, 10.303868039658166, 33.95397512577503, 11.1485148321358, 17.061081170190587, 14.527085709947576, 31.42008207300996, 39.02189156809527, 41.55577841434653, 22.97351329238413, 31.420054143697797, 20.43959386193535, 35.643245436303495, 16.216425843756458, 27.196772856641786, 14.527102777860566, 24.6628068773394, 16.21638860467357, 28.885990411802826, 14.527115190888196, 17.061003588767903, 13.682444348169529, 17.060974107827285, 7.6505896794556705, 6.900487866529992, 4.650171711124824, 3.900066897543269, 3.149957582977897, 3.149957154312772, 3.1499556539848332, 2.3998424814333332, 2.3998424814333332, 2.3998422671007704, 2.3998422671007704, 2.3998416241030824, 2.3998418384356452, 2.3998418384356452, 2.39984140977052, 2.3998411954379573, 45.15602325783985, 9.900915265493596, 7.650616256693442, 1.649716556094354, 1.64971623459551, 1.64971623459551, 1.6497160202629475, 1.64971623459551, 1.6497160202629475, 1.6497160202629475, 1.6497160202629475, 1.6497160202629475, 1.6497160202629475, 1.6497160202629475, 8.400729643577504, 5.400286812669388, 6.150390768920693, 6.150409630186209, 3.1499607979663375, 3.149960369301212, 6.900513586437513, 24.90307755155401, 3.149964441619903, 5.400291527985767, 6.900524731730773, 4.650175569110952, 36.15470033776213, 27.90350709384324, 9.150827598517054, 35.404556944319296, 9.900951273364125, 7.650617114023692, 3.900089616794913, 3.900081900822656, 13.651480485253407, 9.900958989336381, 8.400727928917004, 10.651075805541447, 9.900924696126353, 10.651071518890193, 27.903510523164243, 11.401173760480997, 12.151257140806285, 12.151282860713806, 8.40073564488926, 18.152153947915775, 15.901787210025816, 16.6518654463696, 15.90174434351328, 9.900937556080114, 11.40116518717849, 12.901327661177811, 9.15084560245232, 12.901310514572797, 9.150825026526302, 9.900923838796103, 30.244553720753853, 126.41253453400421, 8.221515889442703, 19.2330750259962, 6.753311159149133, 6.0192080053572905, 6.0192080053572905, 5.2851064288555625, 5.285105245887976, 5.28510406292039, 18.498964774398843, 4.551001303451076, 4.551001303451076, 4.551000909128548, 4.551000909128548, 11.157945066156277, 3.8168961780465906, 3.8168961780465906, 3.8168961780465906, 3.8168961780465906, 3.8168961780465906, 3.8168953894015334, 8.221532450988907, 3.0827890810294614, 3.0827890810294614, 3.0827890810294614, 3.0827890810294614, 3.0827890810294614, 3.0827890810294614, 3.082788686706933, 12.626209733474203, 10.423885287842587, 11.892086863555928, 7.487425353971778, 12.62615216238502, 18.49905941180572, 6.0192352136117675, 11.157981343828913, 6.019261238898658, 6.019234030644181, 4.55100918990165, 4.55100918990165, 13.36032077371662, 6.019243100062341, 6.019240734127169, 23.637741267450696, 8.221546646599938, 9.689774247600171, 14.828475030726521, 11.892061626914094, 7.4874718840301595, 11.1579797665388, 8.22155768763074, 11.892061626914094, 7.48745689977407, 7.487457688419127, 8.221554533050512, 10.423841123719377, 9.689716676510987, 8.955649011746724, 8.221529296408677, 7.4874624202894715, 0.00019551102193915082, 0.00019551100446757498, 0.00019551100446757498, 0.00019551098699599915, 0.00019551098699599915, 0.00019551098699599915, 0.00019551098699599915, 0.00019551098699599915, 0.00019551098699599915, 0.00019551098699599915, 0.00019551098699599915, 0.0001955109695244233, 0.0001955109695244233, 0.0001955109695244233, 0.0001955109695244233, 0.0001955109695244233, 0.0001955109695244233, 0.0001955109695244233, 0.0001955109695244233, 0.00019551095205284748, 0.00019551095205284748, 0.00019551095205284748, 0.00019551095205284748, 0.00019551093458127164, 0.00019551095205284748, 0.00019551095205284748, 0.00019551095205284748, 0.00019551095205284748, 0.00019551095205284748, 0.00019551095205284748, 0.00019551095205284748, 0.00019557979006163624, 0.00019557140370523557, 0.00019556740271436943, 0.00019556329689404827, 0.00019555969774942631, 0.0001955570245983236, 0.00019554858582719543, 0.00019554853341246793, 0.00019554648923809527, 0.0001955447420805118, 0.00019554264549141164, 0.0001955412128221932, 0.00019554063626019065, 0.00019553873185842468, 0.00019553826012587712, 0.0001955372817176304, 0.00019553726424605456, 0.00019553483569701352, 0.00019553464350967936, 0.00019553060757566154, 0.00019552971652529396, 0.00019552927973589808, 0.00019552845857183387, 0.000195528231441348, 0.0001955279868392863, 0.00019552777718037632, 0.0001955276723509213, 0.00019552702590261542, 0.00019552679877212956, 0.00019552669394267455], \"Total\": [129.0, 156.0, 209.0, 104.0, 56.0, 73.0, 30.0, 75.0, 95.0, 159.0, 52.0, 116.0, 49.0, 29.0, 20.0, 73.0, 105.0, 27.0, 20.0, 53.0, 30.0, 30.0, 41.0, 28.0, 36.0, 40.0, 27.0, 49.0, 42.0, 20.0, 52.60512198573032, 30.586441544390034, 28.82494026505326, 73.59588955011623, 27.06344873951888, 23.540458193293027, 22.659712872695092, 16.49447350472667, 16.49447272538374, 15.613719843799755, 15.613720565184657, 75.11214480411033, 29.574463315635096, 11.209976894504234, 28.6937188974022, 10.329227065339357, 10.329225958793524, 10.329228426224557, 10.329225141578725, 10.329229890812059, 9.448476229185323, 9.448477648691746, 9.448478066197193, 9.44847722981426, 9.448477857479018, 9.448477861153064, 9.448478040002298, 36.48988126199753, 22.528481311023384, 8.56772533547148, 209.79903130230272, 33.94104262935688, 30.30803112414139, 30.32464407200582, 38.308820566585844, 33.70045290574324, 25.0235449971068, 24.159407341542558, 23.278655624537745, 27.645236500477477, 42.69946461460715, 22.49132250030653, 53.940491040546604, 159.33663076204567, 105.03119101014389, 32.80501540339989, 39.57026673209898, 34.825318938553124, 45.44808472132933, 116.63366168620128, 139.94130616971688, 119.26204967371388, 45.730242256124235, 37.678562306035886, 89.62330777123947, 42.45638154062748, 85.73186978974509, 156.05616312741293, 29.35927781823364, 27.669981416803534, 20.068166659022623, 18.378875337223896, 14.15564308858113, 12.466346424912686, 11.62170012331906, 10.777051664361267, 9.932402891407602, 9.932403980544345, 9.932403689362985, 9.932403746235217, 21.646379828091288, 8.243106503882856, 8.24310685722488, 8.243107642459377, 8.243108559070523, 8.243109766795783, 8.243109807408457, 7.398458866657874, 7.398458109017373, 7.39845793505066, 7.398459147979781, 7.398459263198973, 7.398458488262026, 6.553808093472469, 6.553807773829618, 6.553807797550956, 6.553808300344674, 19.163053538914202, 104.79376189959243, 12.37121872196757, 41.646366885113835, 11.510615418293693, 11.526571395000037, 49.853353250272896, 13.250526890347663, 22.849205155723784, 18.750343588478287, 50.92630418286987, 85.73186978974509, 95.35359265903308, 40.46999449762085, 64.6255471223826, 39.07812861710631, 119.26204967371388, 27.38616694268604, 73.53176654729015, 24.26111399618315, 89.62330777123947, 33.61816748681888, 139.94130616971688, 27.067850297040803, 44.54125053656508, 25.74902810412399, 73.17934742264268, 8.142701489535186, 7.392596138149801, 5.142277368900098, 4.39216880059701, 3.6420577265047105, 3.642057655925458, 3.642057762060418, 2.8919416529019024, 2.8919419440948397, 2.8919420247077503, 2.89194212861166, 2.891941708177198, 2.8919420508546736, 2.8919421642385705, 2.8919416956247117, 2.891941874919411, 56.400829992134, 12.594875455094341, 9.90294070895501, 2.1418137579235514, 2.141813606071077, 2.141813675053893, 2.141813419966997, 2.141813772768216, 2.1418136105133563, 2.141813649222426, 2.1418136505053056, 2.1418136868145834, 2.1418137110459057, 2.141813716525523, 11.239844151996204, 7.360118612713928, 8.844349774717323, 9.06442096985327, 4.375619795105753, 4.375619499071821, 10.62057235135779, 49.17998150830655, 4.521363477249827, 8.533434140740988, 11.649623311683234, 7.34413579762394, 95.35359265903308, 73.17934742264268, 17.424823635951476, 116.63366168620128, 20.707295781025866, 14.747150351666194, 5.969313252460474, 5.969314032549863, 40.46999449762085, 25.587517299154992, 20.196140249053663, 29.860627757938218, 27.126121043487835, 30.669183052526048, 159.33663076204567, 34.68597796871666, 39.07812861710631, 43.84012929762878, 20.896384498673843, 105.03119101014389, 89.62330777123947, 119.26204967371388, 139.94130616971688, 34.90567193402767, 58.58123260634133, 104.79376189959243, 32.32649151309043, 209.79903130230272, 37.678562306035886, 73.53176654729015, 30.739881801785383, 129.41686546003595, 8.716819140810117, 20.4778673050877, 7.248613782389921, 6.514508823169005, 6.514509413661933, 5.780405900324079, 5.78040549143268, 5.780405340499651, 20.49394644866175, 5.046300486905414, 5.046301132619737, 5.046300846640605, 5.046301062868041, 12.402745633462713, 4.312194941437162, 4.312195035492213, 4.31219522609614, 4.312195378727489, 4.312195757130736, 4.312194961705686, 9.466336275988583, 3.5780869762307637, 3.5780871481813032, 3.578087155482256, 3.5780872692390937, 3.578087324631105, 3.5780873671736493, 3.5780869672207043, 14.714525602272786, 12.54794088402893, 14.954998134737334, 9.482414972053617, 17.343816571781865, 30.05803613100393, 8.107608206313744, 18.59185839448491, 8.237391921722649, 9.024266962937542, 5.795818373418443, 5.79581848551941, 38.63324457253291, 9.607916173044526, 9.702573789360091, 139.94130616971688, 17.880863292724307, 26.927720916126233, 73.17934742264268, 49.17998150830655, 16.55075088117054, 50.92630418286987, 21.48606577849385, 89.62330777123947, 19.41852066147582, 21.083633415310967, 34.68597796871666, 119.26204967371388, 116.63366168620128, 73.53176654729015, 105.03119101014389, 24.092157705749543, 1.3756776915769415, 1.3756777159181623, 1.3756777367059327, 1.3756777162308567, 1.3756777274783794, 1.375677737996623, 1.3756777416342412, 1.3756777529962618, 1.375677764207473, 1.3756777759667684, 1.375677801700319, 1.3756777395485313, 1.3756777457339382, 1.3756777533415918, 1.3756777564333762, 1.3756777633480621, 1.375677775947459, 1.3756777768238715, 1.3756777909815716, 1.3756777052330063, 1.375677731411633, 1.3756777370181577, 1.3756777382918455, 1.3756776261145116, 1.375677749140255, 1.375677751322991, 1.3756777573267909, 1.375677760351466, 1.375677763809728, 1.3756777655607153, 1.3756777708370738, 156.05616312741293, 139.94130616971688, 159.33663076204567, 129.41686546003595, 209.79903130230272, 119.26204967371388, 73.59588955011623, 95.35359265903308, 75.11214480411033, 104.79376189959243, 105.03119101014389, 85.73186978974509, 73.53176654729015, 73.17934742264268, 116.63366168620128, 56.400829992134, 89.62330777123947, 49.17998150830655, 64.6255471223826, 52.60512198573032, 42.45638154062748, 40.175462017009266, 35.635704691849384, 39.07812861710631, 49.853353250272896, 42.69946461460715, 40.46999449762085, 44.54125053656508, 33.921133101869344, 45.44808472132933], \"Category\": [\"Default\", \"Default\", \"Default\", \"Default\", \"Default\", \"Default\", \"Default\", \"Default\", \"Default\", \"Default\", \"Default\", \"Default\", \"Default\", \"Default\", \"Default\", \"Default\", \"Default\", \"Default\", \"Default\", \"Default\", \"Default\", \"Default\", \"Default\", \"Default\", \"Default\", \"Default\", \"Default\", \"Default\", \"Default\", \"Default\", \"Topic1\", \"Topic1\", \"Topic1\", \"Topic1\", \"Topic1\", \"Topic1\", \"Topic1\", \"Topic1\", \"Topic1\", \"Topic1\", \"Topic1\", \"Topic1\", \"Topic1\", \"Topic1\", \"Topic1\", \"Topic1\", \"Topic1\", \"Topic1\", \"Topic1\", \"Topic1\", \"Topic1\", \"Topic1\", \"Topic1\", \"Topic1\", \"Topic1\", \"Topic1\", \"Topic1\", \"Topic1\", \"Topic1\", \"Topic1\", \"Topic1\", \"Topic1\", \"Topic1\", \"Topic1\", \"Topic1\", \"Topic1\", \"Topic1\", \"Topic1\", \"Topic1\", \"Topic1\", \"Topic1\", \"Topic1\", \"Topic1\", \"Topic1\", \"Topic1\", \"Topic1\", \"Topic1\", \"Topic1\", \"Topic1\", \"Topic1\", \"Topic1\", \"Topic1\", \"Topic1\", \"Topic1\", \"Topic1\", \"Topic1\", \"Topic1\", \"Topic2\", \"Topic2\", \"Topic2\", \"Topic2\", \"Topic2\", \"Topic2\", \"Topic2\", \"Topic2\", \"Topic2\", \"Topic2\", \"Topic2\", \"Topic2\", \"Topic2\", \"Topic2\", \"Topic2\", \"Topic2\", \"Topic2\", \"Topic2\", \"Topic2\", \"Topic2\", \"Topic2\", \"Topic2\", \"Topic2\", \"Topic2\", \"Topic2\", \"Topic2\", \"Topic2\", \"Topic2\", \"Topic2\", \"Topic2\", \"Topic2\", \"Topic2\", \"Topic2\", \"Topic2\", \"Topic2\", \"Topic2\", \"Topic2\", \"Topic2\", \"Topic2\", \"Topic2\", \"Topic2\", \"Topic2\", \"Topic2\", \"Topic2\", \"Topic2\", \"Topic2\", \"Topic2\", \"Topic2\", \"Topic2\", \"Topic2\", \"Topic2\", \"Topic2\", \"Topic2\", \"Topic2\", \"Topic2\", \"Topic2\", \"Topic2\", \"Topic3\", \"Topic3\", \"Topic3\", \"Topic3\", \"Topic3\", \"Topic3\", \"Topic3\", \"Topic3\", \"Topic3\", \"Topic3\", \"Topic3\", \"Topic3\", \"Topic3\", \"Topic3\", \"Topic3\", \"Topic3\", \"Topic3\", \"Topic3\", \"Topic3\", \"Topic3\", \"Topic3\", \"Topic3\", \"Topic3\", \"Topic3\", \"Topic3\", \"Topic3\", \"Topic3\", \"Topic3\", \"Topic3\", \"Topic3\", \"Topic3\", \"Topic3\", \"Topic3\", \"Topic3\", \"Topic3\", \"Topic3\", \"Topic3\", \"Topic3\", \"Topic3\", \"Topic3\", \"Topic3\", \"Topic3\", \"Topic3\", \"Topic3\", \"Topic3\", \"Topic3\", \"Topic3\", \"Topic3\", \"Topic3\", \"Topic3\", \"Topic3\", \"Topic3\", \"Topic3\", \"Topic3\", \"Topic3\", \"Topic3\", \"Topic3\", \"Topic3\", \"Topic3\", \"Topic3\", \"Topic3\", \"Topic3\", \"Topic3\", \"Topic3\", \"Topic3\", \"Topic3\", \"Topic3\", \"Topic3\", \"Topic3\", \"Topic3\", \"Topic3\", \"Topic3\", \"Topic4\", \"Topic4\", \"Topic4\", \"Topic4\", \"Topic4\", \"Topic4\", \"Topic4\", \"Topic4\", \"Topic4\", \"Topic4\", \"Topic4\", \"Topic4\", \"Topic4\", \"Topic4\", \"Topic4\", \"Topic4\", \"Topic4\", \"Topic4\", \"Topic4\", \"Topic4\", \"Topic4\", \"Topic4\", \"Topic4\", \"Topic4\", \"Topic4\", \"Topic4\", \"Topic4\", \"Topic4\", \"Topic4\", \"Topic4\", \"Topic4\", \"Topic4\", \"Topic4\", \"Topic4\", \"Topic4\", \"Topic4\", \"Topic4\", \"Topic4\", \"Topic4\", \"Topic4\", \"Topic4\", \"Topic4\", \"Topic4\", \"Topic4\", \"Topic4\", \"Topic4\", \"Topic4\", \"Topic4\", \"Topic4\", \"Topic4\", \"Topic4\", \"Topic4\", \"Topic4\", \"Topic4\", \"Topic4\", \"Topic4\", \"Topic4\", \"Topic4\", \"Topic4\", \"Topic4\", \"Topic4\", \"Topic4\", \"Topic5\", \"Topic5\", \"Topic5\", \"Topic5\", \"Topic5\", \"Topic5\", \"Topic5\", \"Topic5\", \"Topic5\", \"Topic5\", \"Topic5\", \"Topic5\", \"Topic5\", \"Topic5\", \"Topic5\", \"Topic5\", \"Topic5\", \"Topic5\", \"Topic5\", \"Topic5\", \"Topic5\", \"Topic5\", \"Topic5\", \"Topic5\", \"Topic5\", \"Topic5\", \"Topic5\", \"Topic5\", \"Topic5\", \"Topic5\", \"Topic5\", \"Topic5\", \"Topic5\", \"Topic5\", \"Topic5\", \"Topic5\", \"Topic5\", \"Topic5\", \"Topic5\", \"Topic5\", \"Topic5\", \"Topic5\", \"Topic5\", \"Topic5\", \"Topic5\", \"Topic5\", \"Topic5\", \"Topic5\", \"Topic5\", \"Topic5\", \"Topic5\", \"Topic5\", \"Topic5\", \"Topic5\", \"Topic5\", \"Topic5\", \"Topic5\", \"Topic5\", \"Topic5\", \"Topic5\", \"Topic5\"], \"logprob\": [30.0, 29.0, 28.0, 27.0, 26.0, 25.0, 24.0, 23.0, 22.0, 21.0, 20.0, 19.0, 18.0, 17.0, 16.0, 15.0, 14.0, 13.0, 12.0, 11.0, 10.0, 9.0, 8.0, 7.0, 6.0, 5.0, 4.0, 3.0, 2.0, 1.0, -5.1562, -5.7049, -5.7652, -4.8279, -5.8293, -5.9714, -6.0103, -6.3357, -6.3357, -6.3922, -6.3922, -4.8279, -5.7652, -6.7358, -5.7967, -6.8213, -6.8213, -6.8213, -6.8213, -6.8213, -6.9148, -6.9148, -6.9148, -6.9148, -6.9148, -6.9148, -6.9148, -5.5684, -6.0508, -7.018, -3.829, -5.6481, -5.7652, -5.7652, -5.5432, -5.6761, -5.9714, -6.0103, -6.0508, -5.8978, -5.4947, -6.093, -5.282, -4.323, -4.7689, -5.7967, -5.6481, -5.7652, -5.5684, -4.8907, -4.8402, -5.0751, -5.6761, -5.7967, -5.4947, -5.7652, -5.5684, -3.7573, -5.4411, -5.5014, -5.8292, -5.9194, -6.1884, -6.3202, -6.3932, -6.472, -6.5575, -6.5575, -6.5575, -6.5575, -5.787, -6.7542, -6.7542, -6.7542, -6.7542, -6.7542, -6.7542, -6.8693, -6.8693, -6.8693, -6.8693, -6.8693, -6.8693, -6.9994, -6.9994, -6.9994, -6.9994, -5.9677, -4.3367, -6.3932, -5.2549, -6.472, -6.472, -5.2795, -6.3932, -5.9677, -6.1285, -5.3571, -5.1404, -5.0775, -5.6702, -5.3571, -5.787, -5.2309, -6.0185, -5.5014, -6.1285, -5.5992, -6.0185, -5.4411, -6.1285, -5.9677, -6.1884, -5.9677, -6.1765, -6.2797, -6.6744, -6.8503, -7.0639, -7.0639, -7.0639, -7.3359, -7.3359, -7.3359, -7.3359, -7.3359, -7.3359, -7.3359, -7.3359, -7.3359, -4.4011, -5.9186, -6.1765, -7.7107, -7.7107, -7.7107, -7.7107, -7.7107, -7.7107, -7.7107, -7.7107, -7.7107, -7.7107, -7.7107, -6.0829, -6.5248, -6.3948, -6.3947, -7.0639, -7.0639, -6.2797, -4.9963, -7.0639, -6.5248, -6.2797, -6.6744, -4.6235, -4.8825, -5.9974, -4.6444, -5.9186, -6.1765, -6.8503, -6.8503, -5.5974, -5.9186, -6.0829, -5.8456, -5.9186, -5.8456, -4.8825, -5.7776, -5.7138, -5.7138, -6.0829, -5.3125, -5.4448, -5.3987, -5.4448, -5.9186, -5.7776, -5.6539, -5.9974, -5.6539, -5.9974, -5.9186, -4.7184, -3.2882, -6.021, -5.1711, -6.2177, -6.3328, -6.3328, -6.4629, -6.4629, -6.4629, -5.21, -6.6124, -6.6124, -6.6124, -6.6124, -5.7156, -6.7883, -6.7883, -6.7883, -6.7883, -6.7883, -6.7883, -6.021, -7.0019, -7.0019, -7.0019, -7.0019, -7.0019, -7.0019, -7.0019, -5.592, -5.7837, -5.6519, -6.1145, -5.592, -5.21, -6.3328, -5.7156, -6.3328, -6.3328, -6.6124, -6.6124, -5.5355, -6.3328, -6.3328, -4.9649, -6.021, -5.8567, -5.4312, -5.6519, -6.1145, -5.7156, -6.021, -5.6519, -6.1145, -6.1145, -6.021, -5.7837, -5.8567, -5.9355, -6.021, -6.1145, -8.7227, -8.7227, -8.7227, -8.7227, -8.7227, -8.7227, -8.7227, -8.7227, -8.7227, -8.7227, -8.7227, -8.7227, -8.7227, -8.7227, -8.7227, -8.7227, -8.7227, -8.7227, -8.7227, -8.7227, -8.7227, -8.7227, -8.7227, -8.7227, -8.7227, -8.7227, -8.7227, -8.7227, -8.7227, -8.7227, -8.7227, -8.7224, -8.7224, -8.7225, -8.7225, -8.7225, -8.7225, -8.7226, -8.7226, -8.7226, -8.7226, -8.7226, -8.7226, -8.7226, -8.7226, -8.7226, -8.7226, -8.7226, -8.7226, -8.7226, -8.7226, -8.7227, -8.7227, -8.7227, -8.7227, -8.7227, -8.7227, -8.7227, -8.7227, -8.7227, -8.7227], \"loglift\": [30.0, 29.0, 28.0, 27.0, 26.0, 25.0, 24.0, 23.0, 22.0, 21.0, 20.0, 19.0, 18.0, 17.0, 16.0, 15.0, 14.0, 13.0, 12.0, 11.0, 10.0, 9.0, 8.0, 7.0, 6.0, 5.0, 4.0, 3.0, 2.0, 1.0, 0.9147, 0.9082, 0.9073, 0.9071, 0.9062, 0.9036, 0.9028, 0.8949, 0.8949, 0.8933, 0.8933, 0.8868, 0.8816, 0.8811, 0.8803, 0.8774, 0.8774, 0.8774, 0.8774, 0.8774, 0.873, 0.873, 0.873, 0.873, 0.873, 0.873, 0.873, 0.8682, 0.8681, 0.8677, 0.8585, 0.861, 0.8571, 0.8566, 0.8448, 0.8401, 0.8425, 0.8387, 0.8354, 0.8164, 0.7848, 0.8276, 0.7638, 0.6397, 0.6105, 0.7464, 0.7075, 0.7182, 0.6487, 0.3839, 0.2523, 0.1773, 0.5349, 0.6079, 0.0434, 0.52, 0.014, 1.2261, 1.2129, 1.2119, 1.2053, 1.2031, 1.1952, 1.1905, 1.1876, 1.1843, 1.1804, 1.1804, 1.1804, 1.1804, 1.1718, 1.1701, 1.1701, 1.1701, 1.1701, 1.1701, 1.1701, 1.1631, 1.1631, 1.1631, 1.1631, 1.1631, 1.1631, 1.1542, 1.1542, 1.1542, 1.1542, 1.113, 1.045, 1.1251, 1.0495, 1.1184, 1.117, 0.8451, 1.0564, 0.9371, 0.974, 0.7462, 0.4421, 0.3986, 0.663, 0.508, 0.5811, 0.0214, 0.7052, 0.2346, 0.7163, -0.0611, 0.5001, -0.3487, 0.6068, 0.2696, 0.5969, -0.2269, 1.7601, 1.7535, 1.7218, 1.7036, 1.6773, 1.6773, 1.6773, 1.6359, 1.6359, 1.6359, 1.6359, 1.6359, 1.6359, 1.6359, 1.6359, 1.6359, 1.6001, 1.5818, 1.5644, 1.5614, 1.5614, 1.5614, 1.5614, 1.5614, 1.5614, 1.5614, 1.5614, 1.5614, 1.5614, 1.5614, 1.5313, 1.5128, 1.4592, 1.4346, 1.4938, 1.4938, 1.3912, 1.1419, 1.461, 1.3649, 1.2987, 1.3654, 0.8526, 0.8583, 1.1784, 0.6302, 1.0846, 1.1662, 1.3968, 1.3968, 0.7357, 0.8729, 0.9452, 0.7915, 0.8145, 0.7648, 0.0801, 0.7098, 0.6543, 0.5393, 0.9112, 0.0669, 0.0932, -0.1464, -0.3524, 0.5624, 0.1857, -0.2722, 0.5604, -0.9664, 0.4072, -0.1827, 1.8897, 1.8824, 1.8474, 1.8432, 1.8351, 1.8268, 1.8268, 1.8163, 1.8163, 1.8163, 1.8035, 1.8026, 1.8026, 1.8026, 1.8026, 1.8002, 1.7839, 1.7839, 1.7839, 1.7839, 1.7839, 1.7839, 1.7649, 1.7569, 1.7569, 1.7569, 1.7569, 1.7569, 1.7569, 1.7569, 1.7529, 1.7205, 1.6767, 1.6697, 1.5885, 1.4205, 1.6081, 1.3954, 1.5922, 1.501, 1.6641, 1.6641, 0.8441, 1.4383, 1.4285, 0.1275, 1.1289, 0.8838, 0.3096, 0.4863, 1.1127, 0.3877, 0.9453, -0.1138, 0.9529, 0.8707, 0.4663, -0.5313, -0.5821, -0.1995, -0.6416, 0.7373, 0.992, 0.992, 0.992, 0.992, 0.992, 0.992, 0.992, 0.992, 0.992, 0.992, 0.992, 0.992, 0.992, 0.992, 0.992, 0.992, 0.992, 0.992, 0.992, 0.992, 0.992, 0.992, 0.992, 0.992, 0.992, 0.992, 0.992, 0.992, 0.992, 0.992, 0.992, -3.7389, -3.63, -3.7598, -3.5518, -4.035, -3.4702, -2.9875, -3.2465, -3.0079, -3.3409, -3.3432, -3.1401, -2.9866, -2.9818, -3.448, -2.7214, -3.1845, -2.5844, -2.8576, -2.6518, -2.4374, -2.3822, -2.2623, -2.3545, -2.5981, -2.4432, -2.3895, -2.4854, -2.213, -2.5056]}, \"token.table\": {\"Topic\": [1, 2, 3, 4, 4, 3, 4, 2, 1, 2, 3, 4, 2, 2, 1, 2, 3, 3, 1, 2, 3, 4, 3, 1, 2, 3, 4, 1, 2, 3, 4, 4, 4, 1, 3, 4, 2, 3, 4, 3, 4, 1, 3, 4, 4, 4, 2, 3, 4, 2, 3, 1, 2, 3, 2, 4, 3, 3, 3, 1, 2, 3, 4, 1, 3, 1, 2, 3, 1, 2, 3, 4, 2, 2, 3, 4, 1, 3, 4, 4, 2, 3, 3, 1, 2, 3, 4, 4, 1, 2, 4, 2, 4, 2, 4, 1, 3, 2, 2, 2, 1, 3, 4, 1, 2, 3, 4, 1, 1, 4, 2, 2, 1, 3, 4, 2, 1, 3, 4, 4, 1, 2, 3, 4, 1, 2, 3, 4, 2, 3, 4, 1, 3, 4, 4, 3, 1, 2, 3, 1, 2, 4, 2, 3, 4, 1, 1, 1, 2, 4, 4, 1, 1, 2, 3, 3, 1, 3, 1, 3, 1, 1, 2, 3, 4, 1, 2, 3, 4, 2, 3, 4, 1, 3, 4, 1, 2, 3, 1, 2, 3, 4, 4, 1, 3, 4, 3, 4, 4, 1, 3, 4, 4, 4, 1, 2, 3, 1, 2, 3, 4, 1, 2, 3, 4, 4, 2, 4, 4, 4, 1, 2, 4, 3, 4, 2, 3, 4, 1, 2, 3, 4, 1, 3, 4, 4, 1, 2, 3, 4, 1, 2, 3, 1, 2, 3, 4, 1, 2, 3, 4, 2, 1, 3, 1, 2, 3, 4, 4, 1, 1, 1, 4, 1, 2, 3, 4, 1, 2, 3, 4, 1, 2, 3, 4, 2, 1, 2, 3, 1, 2, 3, 2, 2, 2, 1, 3, 4, 1, 2, 3, 4, 1, 2, 3, 4, 3, 1, 3, 1, 3, 1, 3, 1, 2, 3, 4, 2, 2, 1, 2, 3, 1, 3, 4, 4, 3, 4, 2, 3, 4, 1, 2, 3, 4, 4, 4, 4, 1, 2, 3, 4, 2, 4, 1, 1, 1, 2, 3, 2, 1, 2, 3, 4, 3, 4, 4, 2, 3, 4, 1, 2, 3, 1, 4, 4, 4, 3, 4, 4, 3, 4, 3, 4, 3, 3, 1, 2, 3, 1, 2, 3, 4, 2, 3, 3, 3, 3, 4, 4, 4, 4, 1, 2, 3, 4, 1, 3, 4, 1, 2, 3, 4, 4, 1, 2, 3, 4, 1, 3, 2, 1, 2, 3, 4, 1, 4, 4, 2, 1, 3, 4, 1, 2, 3, 4, 1, 2, 3, 3, 4, 4, 1, 3, 2, 1, 2, 3, 4, 4, 1, 2, 3, 1, 2, 3, 4, 3, 4, 1, 1, 2, 3, 4, 1, 2, 3, 4, 3, 4, 3, 3, 3, 3, 4, 1, 2, 3, 4, 1, 3, 2, 4, 1, 3, 1, 1, 2, 1, 4, 1, 2, 3, 4, 1, 3, 1, 1, 3, 4, 3, 4, 3, 1, 3, 4, 1, 2, 3, 4, 2, 3, 4, 1, 2, 3, 4, 1, 2, 3, 4, 1, 3, 4], \"Freq\": [0.677888383498525, 0.30614314093481776, 0.02186736720962984, 0.7269144174913792, 0.9210210873705256, 0.6915768153935012, 0.9276018285530591, 0.9061250659903314, 0.6595003856653718, 0.2119822668210124, 0.04710717040466942, 0.07066075560700413, 0.9061250446145018, 0.9966032443231692, 0.23927584220692902, 0.38284134753108645, 0.38284134753108645, 0.6915767712682909, 0.4128390361851102, 0.27894529471966906, 0.1785249886205882, 0.13389374146544114, 0.933788024872875, 0.0720350951206821, 0.8404094430746244, 0.0720350951206821, 0.024011698373560698, 0.04771276371193471, 0.830202088587664, 0.12405318565103025, 0.7269144343667346, 0.9657018859255665, 0.9210210038866584, 0.3355542683692118, 0.1677771341846059, 0.44740569115894907, 0.10757396907633936, 0.2689349226908484, 0.5916568299198665, 0.10563748961005176, 0.8450999168804141, 0.6267022097536937, 0.3686483586786434, 0.7269144103707, 0.7269144206730465, 0.7269144170372627, 0.16752345834553292, 0.6700938333821317, 0.16752345834553292, 0.9461430392703835, 0.6915768850291676, 0.16047064998493774, 0.6820002624359854, 0.16047064998493774, 0.9877627160838912, 0.8384368574405832, 0.9337880272618788, 0.6915768718106727, 0.9337880710920657, 0.4779391277941718, 0.3018562912384243, 0.14254324864036702, 0.08384896978845119, 0.959170016166943, 0.054809715209539596, 0.9525343802204054, 0.7999853404935577, 0.2133294241316154, 0.16634486625167955, 0.19961383950201544, 0.033268973250335905, 0.5988415185060464, 0.9625915718192508, 0.067960057091174, 0.067960057091174, 0.883480742185262, 0.6875673399257409, 0.28648639163572537, 0.028648639163572538, 0.7269144135341512, 0.8675606698048798, 0.08675606698048799, 0.6915767627484994, 0.07302957015436348, 0.5842365612349079, 0.21908871046309042, 0.10954435523154521, 0.8384368595518694, 0.5217317045558089, 0.14229046487885696, 0.33201108471733287, 0.230629745387641, 0.7495466725098332, 0.8687632795121546, 0.08687632795121546, 0.8040127370952171, 0.17228844366326082, 0.9757867052127233, 0.9996401095202688, 0.9061250711787385, 0.9238475401226917, 0.032994555004381844, 0.032994555004381844, 0.043765198534685024, 0.7440083750896453, 0.08753039706937005, 0.13129559560405507, 0.9681263855783758, 0.9713810242981353, 0.8384367658327238, 0.9890048733492948, 0.9461429908796842, 0.9409724858789378, 0.03485083281033103, 0.7269144028897068, 0.9705078605147762, 0.9606935091080645, 0.6915767898630361, 0.726914426798763, 0.7269144229613178, 0.24904369601433055, 0.3735655440214958, 0.08301456533811018, 0.29055097868338564, 0.5830220797058707, 0.034295416453286515, 0.300084893966257, 0.08573854113321629, 0.10408084146337043, 0.20816168292674087, 0.6244850487802226, 0.18831376820706933, 0.6590981887247426, 0.18831376820706933, 0.8384368154373978, 0.9337880378262517, 0.3961152923947861, 0.19805764619739305, 0.3961152923947861, 0.06686727681210532, 0.13373455362421063, 0.8024073217452639, 0.2295575601549887, 0.5165045103487246, 0.2869469501937359, 0.977041305277269, 0.9884968998666239, 0.12139764739892023, 0.12139764739892023, 0.7283858843935214, 0.7269144163222031, 0.9812687486798322, 0.0858396853911246, 0.3433587415644984, 0.6008777977378723, 0.910711810405897, 0.9337367488753375, 0.9824749206736139, 0.9021139510249104, 0.0859156143833248, 0.9681265228495974, 0.39825304294511926, 0.29868978220883946, 0.12445407592034978, 0.1742357062884897, 0.3402781893465182, 0.27840942764715126, 0.27840942764715126, 0.1237375233987339, 0.9154983156878809, 0.08062730862608289, 0.8869003948869117, 0.07969435059044659, 0.07969435059044659, 0.7969435059044659, 0.9043149259934242, 0.03617259703973697, 0.07234519407947394, 0.31265245105527273, 0.19540778190954544, 0.3908155638190909, 0.07816311276381818, 0.9908247946272509, 0.22162464920574207, 0.11081232460287103, 0.6648739476172262, 0.680815297780531, 0.2723261191122124, 0.7269144314042213, 0.7165878512215621, 0.23886261707385403, 0.02654029078598378, 0.7269144300671603, 0.7269144554155693, 0.9428113434653891, 0.02946285448329341, 0.02946285448329341, 0.1776457492155447, 0.23230597974340464, 0.3826216136950194, 0.2049758644794747, 0.35921757488297684, 0.3816686733131629, 0.15715768901130237, 0.11225549215093027, 0.8384368171481967, 0.9461429549031728, 0.9276016733204928, 0.7269144423883268, 0.7269144249988495, 0.9525343618195901, 0.9278975652560982, 0.7269143972258719, 0.21091673438616218, 0.7382085703515676, 0.9154982454528693, 0.7939737106296852, 0.15879474212593706, 0.491804408618282, 0.07765332767657084, 0.10353777023542779, 0.3364977532651403, 0.015453936338904777, 0.007726968169452389, 0.973597989351001, 0.9759308833210149, 0.5612348674719603, 0.14030871686799007, 0.16837046024158805, 0.11224697349439204, 0.9136277098159503, 0.05220729770376859, 0.026103648851884296, 0.968126830709355, 0.1675234364530221, 0.6700937458120884, 0.1675234364530221, 0.16779650932726844, 0.44046583698407965, 0.377542145986354, 0.020974563665908556, 0.9154983190015034, 0.35155834691184473, 0.5859305781864079, 0.11650925183927688, 0.5437098419166254, 0.2718549209583127, 0.07767283455951791, 0.7269144211451308, 0.9681266504011605, 0.9808267482329079, 0.9681267541143056, 0.8649912429095857, 0.3671882407807463, 0.3671882407807463, 0.13599564473360973, 0.12239608026024877, 0.8230448810337012, 0.12193257496795573, 0.030483143741988933, 0.030483143741988933, 0.40824958193302535, 0.4549066770110854, 0.08164991638660507, 0.05832136884757505, 0.9793852817284997, 0.8892318359548409, 0.04446159179774205, 0.04446159179774205, 0.15353857035450572, 0.5117952345150191, 0.30707714070901143, 0.9461431100171646, 0.9705076601468494, 0.9705079021157444, 0.9525345443744645, 0.6856172024638741, 0.22853906748795805, 0.10166738267592669, 0.14233433574629736, 0.5083369133796335, 0.24400171842222407, 0.017730235532694573, 0.05319070659808372, 0.7978605989712557, 0.124111648728862, 0.8237101649653169, 0.9389938493859851, 0.06196406112699394, 0.9106183644733116, 0.08278348767939196, 0.8527916433949813, 0.1483115901556489, 0.3094751362356071, 0.479686461165191, 0.10831629768246248, 0.10831629768246248, 0.9705077680646611, 0.9061251439755619, 0.0824364454292844, 0.618273340719633, 0.3297457817171376, 0.20196021149469717, 0.8078408459787887, 0.726914436445084, 0.8649911591363635, 0.04883321027046363, 0.927830995138809, 0.20613087242822248, 0.20613087242822248, 0.6183926172846674, 0.3586662214367002, 0.22824214091426376, 0.3586662214367002, 0.06521204026121821, 0.9908247521716974, 0.7269144481996417, 0.7269144238454818, 0.07854487114628443, 0.6087227513837044, 0.09818108893285554, 0.21599839565228218, 0.9239420244324309, 0.046197101221621545, 0.9700219137879573, 0.9525343591787904, 0.05218375025510997, 0.8871237543368695, 0.05218375025510997, 0.9461429401685068, 0.1396253753910967, 0.18616716718812892, 0.32579254257922563, 0.37233433437625785, 0.9337880536563729, 0.8649912203236704, 0.7269144190747943, 0.22064288570132184, 0.6619286571039655, 0.11032144285066092, 0.24146079009416135, 0.2897529481129936, 0.4829215801883227, 0.9700218679556535, 0.9276018487853627, 0.8384367887812786, 0.9908247384761796, 0.09758979340607185, 0.8783081406546467, 0.7269144308871958, 0.6793368779903844, 0.2717347511961538, 0.6915767961157911, 0.7269144108235972, 0.9337880003521842, 0.6915768319360616, 0.4063861695438214, 0.5541629584688473, 0.07388839446251298, 0.2574861436236717, 0.15449168617420303, 0.2574861436236717, 0.3604806010731404, 0.970507517954564, 0.9337880068241614, 0.9337880730288112, 0.9337880429536781, 0.172538187978135, 0.862690939890675, 0.9276018444253742, 0.7269144425535559, 0.8384367758015226, 0.514501414705108, 0.2072297364784463, 0.11433364771224623, 0.17150047156836934, 0.9233414226895472, 0.06595295876353909, 0.9908248652600933, 0.06042021943171655, 0.1208404388634331, 0.3625213165902993, 0.42294153602201584, 0.9276017547192825, 0.7701094603789559, 0.15402189207579117, 0.04400625487879748, 0.04400625487879748, 0.9321533799850288, 0.044388256189763275, 0.9154982743507463, 0.40186697002074556, 0.1674445708419773, 0.36837805585235006, 0.06697782833679092, 0.9606935534940148, 0.7269144172474329, 0.7269144227788439, 0.946505234456049, 0.08896920513105151, 0.7117536410484121, 0.17793841026210303, 0.09883865934884552, 0.5683222912558618, 0.3459353077209593, 0.7269144289650616, 0.07546869707712901, 0.8301556678484191, 0.07546869707712901, 0.9723318369093478, 0.7269144315692024, 0.9276017875520046, 0.9525344434975077, 0.6915768748124653, 0.9461430877696361, 0.7331155560500439, 0.019041962494806334, 0.171377662453257, 0.07616784997922534, 0.7269144900062218, 0.8086880034609911, 0.10108600043262389, 0.07581450032446792, 0.297091611463079, 0.18568225716442435, 0.1485458057315395, 0.3713645143288487, 0.6856171560782268, 0.2285390520260756, 0.9976555560183936, 0.9525343798500119, 0.889160578857708, 0.08083277989615527, 0.917765972973543, 0.3832419147367335, 0.41272206202417455, 0.1474007364372052, 0.08844044186232312, 0.9337881541664902, 0.7269144307311989, 0.9337880542156827, 0.946893333436167, 0.8237101730068144, 0.17253818464095358, 0.8626909232047679, 0.267712391031687, 0.47593313961188793, 0.05949164245148599, 0.17847492735445797, 0.22117222051084948, 0.6635166615325485, 0.9705075131730062, 0.7269144108338004, 0.9585666896847815, 0.02662685249124393, 0.9525344012689871, 0.8665214033466497, 0.11709748693873645, 0.9783155070225834, 0.013587715375313657, 0.7531224893239318, 0.043932145210562684, 0.17572858084225074, 0.03138010372183049, 0.9467627426123832, 0.0338129550932994, 0.9708860886101498, 0.33904855384044275, 0.5424776861447084, 0.1356194215361771, 0.6783992212917391, 0.22613307376391303, 0.8237101889694525, 0.9191343593667181, 0.03996236345072687, 0.03996236345072687, 0.25947084461960723, 0.17298056307973816, 0.31713103231285333, 0.23064075077298424, 0.123340937863926, 0.123340937863926, 0.740045627183556, 0.46089846182371536, 0.23898438761229687, 0.18777344740966181, 0.10242188040527009, 0.5018233374870529, 0.20529136533561254, 0.2737218204474834, 0.02281015170395695, 0.9198689432069018, 0.05934638343270335, 0.029673191716351674], \"Term\": [\"000\", \"000\", \"000\", \"1885\", \"19th\", \"71\", \"aboriginal\", \"abortion\", \"activity\", \"activity\", \"activity\", \"activity\", \"afterlife\", \"aging\", \"ago\", \"ago\", \"ago\", \"allowed\", \"also\", \"also\", \"also\", \"also\", \"analogs\", \"animal\", \"animal\", \"animal\", \"animal\", \"animals\", \"animals\", \"animals\", \"apt\", \"archaeology\", \"architecture\", \"area\", \"area\", \"area\", \"art\", \"art\", \"art\", \"artists\", \"artists\", \"atmosphere\", \"atmosphere\", \"auden\", \"backed\", \"background\", \"began\", \"began\", \"began\", \"bilateria\", \"biotic\", \"body\", \"body\", \"body\", \"brain\", \"britain\", \"broadest\", \"broke\", \"cambridge\", \"can\", \"can\", \"can\", \"can\", \"carbon\", \"carbon\", \"caused\", \"cells\", \"cells\", \"century\", \"century\", \"century\", \"century\", \"cessation\", \"chinese\", \"chinese\", \"chinese\", \"climate\", \"climate\", \"climate\", \"concerns\", \"consciousness\", \"consciousness\", \"conservation\", \"considered\", \"considered\", \"considered\", \"considered\", \"countryside\", \"created\", \"created\", \"created\", \"cultural\", \"cultural\", \"cultures\", \"cultures\", \"currents\", \"currents\", \"dead\", \"death\", \"deaths\", \"deep\", \"deep\", \"deep\", \"definition\", \"definition\", \"definition\", \"definition\", \"density\", \"depth\", \"design\", \"die\", \"died\", \"dioxide\", \"dioxide\", \"disappearance\", \"disease\", \"dissolved\", \"doi\", \"drew\", \"dyer\", \"early\", \"early\", \"early\", \"early\", \"earth\", \"earth\", \"earth\", \"earth\", \"ecology\", \"ecology\", \"ecology\", \"ecosystem\", \"ecosystem\", \"ecosystem\", \"emphasis\", \"employ\", \"energy\", \"energy\", \"energy\", \"english\", \"english\", \"english\", \"environment\", \"environment\", \"environment\", \"eruption\", \"eruptions\", \"europe\", \"europe\", \"europe\", \"exemplified\", \"explosive\", \"extinction\", \"extinction\", \"extinction\", \"extremes\", \"felsic\", \"flora\", \"flows\", \"flows\", \"forces\", \"form\", \"form\", \"form\", \"form\", \"forms\", \"forms\", \"forms\", \"forms\", \"functioning\", \"garden\", \"garden\", \"gardens\", \"gardens\", \"gardens\", \"gases\", \"gases\", \"gases\", \"generally\", \"generally\", \"generally\", \"generally\", \"genre\", \"geography\", \"geography\", \"geography\", \"geology\", \"geology\", \"geosystems\", \"global\", \"global\", \"global\", \"golden\", \"harmonic\", \"high\", \"high\", \"high\", \"human\", \"human\", \"human\", \"human\", \"including\", \"including\", \"including\", \"including\", \"influential\", \"insects\", \"integrated\", \"intention\", \"invented\", \"ions\", \"irreversible\", \"isaak\", \"john\", \"john\", \"kingdom\", \"lakes\", \"lakes\", \"land\", \"land\", \"land\", \"land\", \"landscape\", \"landscape\", \"landscape\", \"landscapes\", \"large\", \"large\", \"large\", \"large\", \"lava\", \"lava\", \"lava\", \"lavas\", \"laws\", \"laws\", \"laws\", \"life\", \"life\", \"life\", \"life\", \"lifespan\", \"liquid\", \"liquid\", \"living\", \"living\", \"living\", \"living\", \"loosely\", \"mafic\", \"magma\", \"magmas\", \"management\", \"many\", \"many\", \"many\", \"many\", \"marine\", \"marine\", \"marine\", \"marine\", \"may\", \"may\", \"may\", \"may\", \"medical\", \"meters\", \"meters\", \"meters\", \"million\", \"million\", \"million\", \"miscarriage\", \"molluscs\", \"mortality\", \"mount\", \"native\", \"native\", \"natural\", \"natural\", \"natural\", \"natural\", \"nature\", \"nature\", \"nature\", \"nature\", \"observable\", \"ocean\", \"ocean\", \"oceanic\", \"oceanic\", \"oceans\", \"oceans\", \"one\", \"one\", \"one\", \"one\", \"organ\", \"organism\", \"organisms\", \"organisms\", \"organisms\", \"outer\", \"outer\", \"p\", \"painters\", \"painting\", \"painting\", \"paintings\", \"paintings\", \"paintings\", \"part\", \"part\", \"part\", \"part\", \"pastoral\", \"paying\", \"peaceful\", \"people\", \"people\", \"people\", \"people\", \"person\", \"person\", \"ph\", \"photic\", \"phyla\", \"phyla\", \"phyla\", \"phylogeny\", \"physical\", \"physical\", \"physical\", \"physical\", \"physics\", \"picturesque\", \"pinyin\", \"plant\", \"plant\", \"plant\", \"plants\", \"plants\", \"plants\", \"plate\", \"poem\", \"poems\", \"poet\", \"poetry\", \"poetry\", \"politics\", \"ponds\", \"ponds\", \"possessed\", \"powys\", \"preserves\", \"press\", \"process\", \"process\", \"process\", \"processes\", \"processes\", \"processes\", \"processes\", \"protostomes\", \"rapidly\", \"rays\", \"reality\", \"romantic\", \"romantic\", \"romanticism\", \"rules\", \"rural\", \"s\", \"s\", \"s\", \"s\", \"salinity\", \"salinity\", \"scenery\", \"science\", \"science\", \"science\", \"science\", \"scott\", \"sea\", \"sea\", \"sea\", \"sea\", \"seawater\", \"seawater\", \"senescence\", \"several\", \"several\", \"several\", \"several\", \"silica\", \"sir\", \"softscape\", \"soul\", \"space\", \"space\", \"space\", \"species\", \"species\", \"species\", \"speech\", \"sponges\", \"sponges\", \"sponges\", \"streams\", \"subgenres\", \"sublime\", \"submarine\", \"substance\", \"suicide\", \"surface\", \"surface\", \"surface\", \"surface\", \"sweeps\", \"temperature\", \"temperature\", \"temperature\", \"term\", \"term\", \"term\", \"term\", \"terrain\", \"terrain\", \"tidal\", \"tides\", \"tissues\", \"tissues\", \"topographical\", \"two\", \"two\", \"two\", \"two\", \"ultraviolet\", \"unep\", \"unit\", \"universe\", \"university\", \"urban\", \"urban\", \"used\", \"used\", \"used\", \"used\", \"variations\", \"variations\", \"vertebrates\", \"viewers\", \"volcanic\", \"volcanic\", \"volcanism\", \"volcano\", \"volcano\", \"volcanoes\", \"volcanoes\", \"water\", \"water\", \"water\", \"water\", \"waters\", \"waters\", \"waves\", \"weather\", \"weather\", \"weather\", \"wilderness\", \"wilderness\", \"wildlife\", \"wind\", \"wind\", \"wind\", \"within\", \"within\", \"within\", \"within\", \"works\", \"works\", \"works\", \"world\", \"world\", \"world\", \"world\", \"years\", \"years\", \"years\", \"years\", \"zone\", \"zone\", \"zone\"]}, \"R\": 30, \"lambda.step\": 0.01, \"plot.opts\": {\"xlab\": \"PC1\", \"ylab\": \"PC2\"}, \"topic.order\": [2, 3, 1, 5, 4]};\n",
       "\n",
       "function LDAvis_load_lib(url, callback){\n",
       "  var s = document.createElement('script');\n",
       "  s.src = url;\n",
       "  s.async = true;\n",
       "  s.onreadystatechange = s.onload = callback;\n",
       "  s.onerror = function(){console.warn(\"failed to load library \" + url);};\n",
       "  document.getElementsByTagName(\"head\")[0].appendChild(s);\n",
       "}\n",
       "\n",
       "if(typeof(LDAvis) !== \"undefined\"){\n",
       "   // already loaded: just create the visualization\n",
       "   !function(LDAvis){\n",
       "       new LDAvis(\"#\" + \"ldavis_el21138139812576306992840066731\", ldavis_el21138139812576306992840066731_data);\n",
       "   }(LDAvis);\n",
       "}else if(typeof define === \"function\" && define.amd){\n",
       "   // require.js is available: use it to load d3/LDAvis\n",
       "   require.config({paths: {d3: \"https://d3js.org/d3.v5\"}});\n",
       "   require([\"d3\"], function(d3){\n",
       "      window.d3 = d3;\n",
       "      LDAvis_load_lib(\"https://cdn.jsdelivr.net/gh/bmabey/pyLDAvis@3.4.0/pyLDAvis/js/ldavis.v3.0.0.js\", function(){\n",
       "        new LDAvis(\"#\" + \"ldavis_el21138139812576306992840066731\", ldavis_el21138139812576306992840066731_data);\n",
       "      });\n",
       "    });\n",
       "}else{\n",
       "    // require.js not available: dynamically load d3 & LDAvis\n",
       "    LDAvis_load_lib(\"https://d3js.org/d3.v5.js\", function(){\n",
       "         LDAvis_load_lib(\"https://cdn.jsdelivr.net/gh/bmabey/pyLDAvis@3.4.0/pyLDAvis/js/ldavis.v3.0.0.js\", function(){\n",
       "                 new LDAvis(\"#\" + \"ldavis_el21138139812576306992840066731\", ldavis_el21138139812576306992840066731_data);\n",
       "            })\n",
       "         });\n",
       "}\n",
       "</script>"
      ],
      "text/plain": [
       "<IPython.core.display.HTML object>"
      ]
     },
     "execution_count": 13,
     "metadata": {},
     "output_type": "execute_result"
    }
   ],
   "source": [
    "pyLDAvis.display(vis_data)"
   ]
  }
 ],
 "metadata": {
  "kernelspec": {
   "display_name": "Python 3",
   "language": "python",
   "name": "python3"
  },
  "language_info": {
   "codemirror_mode": {
    "name": "ipython",
    "version": 3
   },
   "file_extension": ".py",
   "mimetype": "text/x-python",
   "name": "python",
   "nbconvert_exporter": "python",
   "pygments_lexer": "ipython3",
   "version": "3.10.8"
  },
  "widgets": {
   "application/vnd.jupyter.widget-state+json": {
    "state": {},
    "version_major": 2,
    "version_minor": 0
   }
  }
 },
 "nbformat": 4,
 "nbformat_minor": 2
}
