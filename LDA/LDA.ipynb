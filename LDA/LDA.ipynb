{
 "cells": [
  {
   "cell_type": "markdown",
   "metadata": {},
   "source": [
    "# Latent Dirichlet Allocation LDA "
   ]
  },
  {
   "cell_type": "markdown",
   "metadata": {},
   "source": [
    "#### Wikifetcher\n",
    "Raw text from Wikipedia using search terms\n",
    "#### LDAbuilder\n",
    "Run LDA with the given document list (raw text list from Wikifetcher)"
   ]
  },
  {
   "cell_type": "markdown",
   "metadata": {},
   "source": [
    "## Execution\n",
    "Additionally for each execution block the execution time is measured.\n",
    "### Configuration \n",
    "- We need access to Wikipedia for the raw text\n",
    "- Natural Language Toolkit NLTK for tokenization and stemming\n",
    "- Stop_words to remove meaningless words\n",
    "- Gensim for the Latent Dirichlet Allocation LDA implementation."
   ]
  },
  {
   "cell_type": "code",
   "execution_count": null,
   "metadata": {},
   "outputs": [
    {
     "name": "stdout",
     "output_type": "stream",
     "text": [
      "Ausführungszeit: 0.001001 s\n"
     ]
    }
   ],
   "source": [
    "import wikipedia\n",
    "import time\n",
    "from nltk.tokenize import RegexpTokenizer\n",
    "from stop_words import get_stop_words\n",
    "from nltk.stem.porter import PorterStemmer\n",
    "import re\n",
    "import warnings\n",
    "warnings.filterwarnings(action='ignore', category=UserWarning, module='gensim')\n",
    "from gensim import corpora, models\n",
    "\n",
    "start = time.time()\n",
    "\n",
    "sentence_pat = re.compile(r'([A-Z][^\\.!?]*[\\.!?])', re.M)\n",
    "tokenizer = RegexpTokenizer(r'\\w+')\n",
    "\n",
    "# Create english stop words list\n",
    "en_stop = get_stop_words('en')\n",
    "p_stemmer = PorterStemmer()\n",
    "\n",
    "doc_list = []\n",
    "wikipedia.set_lang('en')\n",
    "\n",
    "end = time.time()\n",
    "print('Execution Time: %f' %(end-start) + ' s')"
   ]
  },
  {
   "cell_type": "markdown",
   "metadata": {},
   "source": [
    "### Wikipedia Content\n",
    "Using search terms, we retrieve the raw content from Wikipedia.Then the content is separated into sentences, which are added to the document list."
   ]
  },
  {
   "cell_type": "code",
   "execution_count": 2,
   "metadata": {},
   "outputs": [
    {
     "name": "stdout",
     "output_type": "stream",
     "text": [
      "Nature, in the broadest sense, is the natural, physical, or material world or universe. \"Nature\" can refer to the phenomena of the physical world, and also to life in general. The study of nature is a large part of science. Although humans are part of nature, human activity is often understood as a separate category from other natural phenomena.\n",
      "The word nature is derived from the Latin word natura, or \"essential qualities, innate disposition\", and in ancient times, literally meant \"birth\". Natura is a Latin translation of the Greek word physis (φύσις), which originally related to the intrinsic characteristics that plants, animals, and other features of the world develop of their own accord. The concept of nature as a whole, the physical universe, is one of several expansions of the original notion; it began with certain core applications of the word φύσις by pre-Socratic philosophers, and has steadily gained currency ever since. This usage continued during the advent of modern scienti...\n",
      "---\n",
      "A volcano is a rupture in the crust of a planetary-mass object, such as Earth, that allows hot lava, volcanic ash, and gases to escape from a magma chamber below the surface.\n",
      "Earth's volcanoes occur because its crust is broken into 17 major, rigid tectonic plates that float on a hotter, softer layer in its mantle. Therefore, on Earth, volcanoes are generally found where tectonic plates are diverging or converging, and most are found underwater. For example, a mid-oceanic ridge, such as the Mid-Atlantic Ridge, has volcanoes caused by divergent tectonic plates whereas the Pacific Ring of Fire has volcanoes caused by convergent tectonic plates. Volcanoes can also form where there is stretching and thinning of the crust's plates, e.g., in the East African Rift and the Wells Gray-Clearwater volcanic field and Rio Grande Rift in North America. This type of volcanism falls under the umbrella of \"plate hypothesis\" volcanism. Volcanism away from plate boundaries has also been explained as mantl...\n",
      "---\n",
      "An ocean (from Ancient Greek Ὠκεανός, transc. Okeanós, the sea of classical antiquity) is a body of saline water that composes much of a planet's hydrosphere. On Earth, an ocean is one of the major conventional divisions of the World Ocean. These are, in descending order by area, the Pacific, Atlantic, Indian, Southern (Antarctic), and Arctic Oceans. The word sea is often used interchangeably with \"ocean\" in American English but, strictly speaking, a sea is a body of saline water (generally a division of the world ocean) partly or fully enclosed by land.\n",
      "Saline water covers approximately 360,000,000 km2 (140,000,000 sq mi) and is customarily divided into several principal oceans and smaller seas, with the ocean covering approximately 71% of Earth's surface and 90% of the Earth's biosphere. The ocean contains 97% of Earth's water, and oceanographers have stated that less than 5% of the World Ocean has been explored. The total volume is approximately 1.35 billion cubic kilometers (320 mi...\n",
      "---\n",
      "A landscape is the visible features of an area of land, its landforms and how they integrate with natural or man-made features.\n",
      "\n",
      "A landscape includes the physical elements of geophysically defined landforms such as (ice-capped) mountains, hills, water bodies such as rivers, lakes, ponds and the sea, living elements of land cover including indigenous vegetation, human elements including different forms of land use, buildings and structures, and transitory elements such as lighting and weather conditions.\n",
      "Combining both their physical origins and the cultural overlay of human presence, often created over millennia, landscapes reflect a living synthesis of people and place that is vital to local and national identity. The character of a landscape helps define the self-image of the people who inhabit it and a sense of place that differentiates one region from other regions. It is the dynamic backdrop to people’s lives. Landscape can be as varied as farmland, a landscape park, or wilderness...\n",
      "---\n",
      "Earth is the third planet from the Sun and the only object in the Universe known to harbor life. According to radiometric dating and other sources of evidence, Earth formed over 4 billion years ago. Earth's gravity interacts with other objects in space, especially the Sun and the Moon, Earth's only natural satellite. Earth revolves around the Sun in 365.26 days, a period known as an Earth year. During this time, Earth rotates about its axis about 366.26 times.\n",
      "Earth's axis of rotation is tilted, producing seasonal variations on the planet's surface. The gravitational interaction between the Earth and Moon causes ocean tides, stabilizes the Earth's orientation on its axis, and gradually slows its rotation. Earth is the densest planet in the Solar System and the largest of the four terrestrial planets.\n",
      "Earth's lithosphere is divided into several rigid tectonic plates that migrate across the surface over periods of many millions of years. About 71% of Earth's surface is covered with water...\n",
      "---\n",
      "Animals are eukaryotic, multicellular organisms that form the biological kingdom Animalia. With few exceptions, animals are motile (able to move), heterotrophic (consume organic material), reproduce sexually, and their embryonic development includes a blastula stage. The body plan of the animal derives from this blastula, differentiating specialized tissues and organs as it develops; this plan eventually becomes fixed, although some undergo metamorphosis at some stage in their lives.\n",
      "Zoology is the study of animals. Currently there are over 66 thousand (less than 5% of all animals) vertebrate species, and over 1.3 million (over 95% of all animals) invertebrate species in existence. Classification of animals into groups (taxonomy) is accomplished using either the hierarchical Linnaean system; or cladistics, which displays diagrams (phylogenetic trees) called cladograms to show relationships based on the evolutionary principle of the most recent common ancestor. Some recent classificatio...\n",
      "---\n",
      "Ausführungszeit: 8.894520 s\n"
     ]
    }
   ],
   "source": [
    "def get_page(name):\n",
    "    first_found = wikipedia.search(name)[0]\n",
    "    try:\n",
    "        return(wikipedia.page(first_found).content)\n",
    "    except wikipedia.exceptions.DisambiguationError as e:\n",
    "        return(wikipedia.page(e.options[0]).content)\n",
    "    \n",
    "start = time.time()\n",
    "\n",
    "search_terms = ['Nature', 'Volcano', 'Ocean', 'Landscape', 'Earth', 'Animals']\n",
    "separator = '== References =='\n",
    "for term in search_terms:\n",
    "    full_content = get_page(term).split(separator, 1)[0]\n",
    "    # sentence_list = sentence_pat.findall(full_content)\n",
    "    #for sentence in sentence_list:\n",
    "    doc_list.append(full_content)\n",
    "\n",
    "    print(full_content[0:1000] + '...')\n",
    "    print('---')\n",
    "\n",
    "end = time.time()\n",
    "print('Execution. Time: %f' %(end-start) + ' s')"
   ]
  },
  {
   "cell_type": "markdown",
   "metadata": {},
   "source": [
    "### Preprocessing\n",
    "The text is now tokenized, stemmed, useless words are removed"
   ]
  },
  {
   "cell_type": "code",
   "execution_count": 3,
   "metadata": {
    "collapsed": true
   },
   "outputs": [],
   "source": [
    "num_topics = 5\n",
    "num_words_per_topic = 20\n",
    "texts = []"
   ]
  },
  {
   "cell_type": "code",
   "execution_count": 4,
   "metadata": {},
   "outputs": [
    {
     "name": "stdout",
     "output_type": "stream",
     "text": [
      "0    [nature, broadest, sense, natural, physical, m...\n",
      "1    [volcano, rupture, crust, planetary, mass, obj...\n",
      "2    [ocean, ancient, greek, ὠκεανός, transc, okean...\n",
      "3    [landscape, visible, features, area, land, lan...\n",
      "4    [earth, third, planet, sun, object, universe, ...\n",
      "5    [animals, eukaryotic, multicellular, organisms...\n",
      "dtype: object\n",
      "Ausführungszeit: 0.062492 s\n"
     ]
    }
   ],
   "source": [
    "import pandas as pd\n",
    "\n",
    "start = time.time()\n",
    "\n",
    "for doc in doc_list:\n",
    "    raw = doc.lower()\n",
    "    # Create tokens\n",
    "    tokens = tokenizer.tokenize(raw)\n",
    "    # Remove useless info\n",
    "    stopped_tokens = [i for i in tokens if not i in en_stop]\n",
    "    # stemmed tokens - duplicate removal and transformation to base form (optional)\n",
    "    # stemmed_tokens = [p_stemmer.stem(i) for i in stopped_tokens]\n",
    "    texts.append(stopped_tokens)\n",
    "output_preprocessed = pd.Series(texts)\n",
    "\n",
    "print(output_preprocessed)\n",
    "\n",
    "end = time.time()\n",
    "print('Execution Time: %f' %(end-start) + ' s')"
   ]
  },
  {
   "cell_type": "markdown",
   "metadata": {},
   "source": [
    "### Dictionary and vectors\n",
    "In this section, we will now create the bag-of-words corpus. The vectors will be needed later for the LDA model."
   ]
  },
  {
   "cell_type": "code",
   "execution_count": 5,
   "metadata": {},
   "outputs": [
    {
     "name": "stdout",
     "output_type": "stream",
     "text": [
      "Dictionary(5354 unique tokens: ['nature', 'broadest', 'sense', 'natural', 'physical']...)\n",
      "---\n",
      "0    [(0, 51), (1, 2), (2, 1), (3, 32), (4, 9), (5,...\n",
      "1    [(3, 2), (5, 6), (6, 1), (8, 28), (9, 2), (11,...\n",
      "2    [(3, 4), (4, 2), (5, 1), (6, 15), (8, 12), (11...\n",
      "3    [(0, 10), (2, 4), (3, 15), (4, 10), (5, 2), (6...\n",
      "4    [(0, 2), (2, 1), (3, 7), (4, 3), (5, 6), (6, 1...\n",
      "5    [(5, 2), (6, 2), (8, 5), (9, 1), (10, 1), (11,...\n",
      "dtype: object\n",
      "Ausführungszeit: 0.062440 s\n"
     ]
    }
   ],
   "source": [
    "start = time.time()\n",
    "\n",
    "dictionary = corpora.Dictionary(texts)\n",
    "# convert dictionary to bag-of-words\n",
    "# corpus is a list of vectors - each document vector is a series of tuples\n",
    "corpus = [dictionary.doc2bow(text) for text in texts]\n",
    "\n",
    "output_vectors = pd.Series(corpus)\n",
    "\n",
    "print(dictionary)\n",
    "print('---')\n",
    "print(output_vectors)\n",
    "\n",
    "end = time.time()\n",
    "print('Execution Time: %f' %(end-start) + ' s')"
   ]
  },
  {
   "cell_type": "markdown",
   "metadata": {},
   "source": [
    "### LDA model\n",
    "Finally, the LDA model can be applied. The transfer parameters for this are the list of vectors, the number of topics, the dictionary, and the update rate.\n",
    "In the training phase, a higher update rate `>= 20` should be selected."
   ]
  },
  {
   "cell_type": "code",
   "execution_count": 6,
   "metadata": {},
   "outputs": [
    {
     "name": "stdout",
     "output_type": "stream",
     "text": [
      "0\n",
      "---\n",
      "0.032*\"earth\" + 0.018*\"s\" + 0.008*\"sun\" + 0.008*\"surface\" + 0.005*\"solar\" + 0.005*\"atmosphere\" + 0.005*\"moon\" + 0.005*\"1\" + 0.005*\"life\" + 0.004*\"water\" + 0.004*\"years\" + 0.004*\"land\" + 0.004*\"million\" + 0.004*\"5\" + 0.003*\"oceans\" + 0.003*\"year\" + 0.003*\"3\" + 0.003*\"energy\" + 0.003*\"field\" + 0.003*\"crust\"\n",
      "---\n",
      "1\n",
      "---\n",
      "0.011*\"water\" + 0.010*\"ocean\" + 0.009*\"animals\" + 0.007*\"earth\" + 0.007*\"surface\" + 0.006*\"life\" + 0.005*\"nature\" + 0.005*\"also\" + 0.005*\"zone\" + 0.005*\"oceans\" + 0.005*\"s\" + 0.004*\"species\" + 0.004*\"can\" + 0.004*\"natural\" + 0.004*\"human\" + 0.004*\"animal\" + 0.004*\"may\" + 0.003*\"world\" + 0.003*\"called\" + 0.003*\"within\"\n",
      "---\n",
      "2\n",
      "---\n",
      "0.036*\"landscape\" + 0.009*\"landscapes\" + 0.007*\"s\" + 0.006*\"painting\" + 0.006*\"poetry\" + 0.006*\"century\" + 0.005*\"human\" + 0.004*\"chinese\" + 0.004*\"cultural\" + 0.004*\"english\" + 0.004*\"land\" + 0.004*\"also\" + 0.004*\"natural\" + 0.004*\"garden\" + 0.004*\"art\" + 0.003*\"people\" + 0.003*\"can\" + 0.003*\"gardens\" + 0.003*\"term\" + 0.003*\"many\"\n",
      "---\n",
      "3\n",
      "---\n",
      "0.019*\"volcanoes\" + 0.014*\"volcanic\" + 0.010*\"lava\" + 0.008*\"volcano\" + 0.007*\"s\" + 0.006*\"can\" + 0.006*\"earth\" + 0.006*\"eruptions\" + 0.006*\"eruption\" + 0.006*\"years\" + 0.005*\"also\" + 0.005*\"activity\" + 0.005*\"surface\" + 0.004*\"active\" + 0.004*\"ash\" + 0.004*\"may\" + 0.004*\"extinct\" + 0.004*\"erupted\" + 0.004*\"flows\" + 0.004*\"mount\"\n",
      "---\n",
      "4\n",
      "---\n",
      "0.000*\"earth\" + 0.000*\"landscape\" + 0.000*\"s\" + 0.000*\"volcanoes\" + 0.000*\"water\" + 0.000*\"surface\" + 0.000*\"also\" + 0.000*\"can\" + 0.000*\"ocean\" + 0.000*\"volcanic\" + 0.000*\"lava\" + 0.000*\"life\" + 0.000*\"years\" + 0.000*\"animals\" + 0.000*\"oceans\" + 0.000*\"within\" + 0.000*\"natural\" + 0.000*\"many\" + 0.000*\"nature\" + 0.000*\"may\"\n",
      "---\n",
      "Ausführungszeit: 20.614590 s\n"
     ]
    }
   ],
   "source": [
    "start = time.time()\n",
    "\n",
    "# Apply LDA model\n",
    "ldamodel = models.ldamodel.LdaModel(corpus, num_topics=num_topics, id2word = dictionary, passes=50)\n",
    "lda = ldamodel.print_topics(num_topics=num_topics, num_words=num_words_per_topic)\n",
    "    \n",
    "for topic in lda:\n",
    "    for entry in topic:\n",
    "        print(entry)\n",
    "        print('---')\n",
    "\n",
    "end = time.time()\n",
    "print('Ausführungszeit: %f' %(end-start) + ' s')"
   ]
  },
  {
   "cell_type": "markdown",
   "metadata": {},
   "source": [
    "## Visualization\n",
    "with `pyLDAvis`"
   ]
  },
  {
   "cell_type": "code",
   "execution_count": 7,
   "metadata": {},
   "outputs": [
    {
     "name": "stdout",
     "output_type": "stream",
     "text": [
      "Ausführungszeit: 10.726074 s\n"
     ]
    }
   ],
   "source": [
    "import pyLDAvis.gensim\n",
    "# ignore dprecation warnings for pyLDAvis\n",
    "warnings.simplefilter(\"ignore\", DeprecationWarning)\n",
    "    \n",
    "start = time.time()\n",
    "pyLDAvis.enable_notebook()\n",
    "\n",
    "vis_data = pyLDAvis.gensim.prepare(ldamodel, corpus, dictionary)\n",
    "\n",
    "end = time.time()\n",
    "print('Execution Time: %f' %(end-start) + ' s')"
   ]
  },
  {
   "cell_type": "code",
   "execution_count": 8,
   "metadata": {},
   "outputs": [
    {
     "data": {
      "text/html": [
       "\n",
       "<link rel=\"stylesheet\" type=\"text/css\" href=\"https://cdn.rawgit.com/bmabey/pyLDAvis/files/ldavis.v1.0.0.css\">\n",
       "\n",
       "\n",
       "<div id=\"ldavis_el1633222320521657527849686302\"></div>\n",
       "<script type=\"text/javascript\">\n",
       "\n",
       "var ldavis_el1633222320521657527849686302_data = {\"mdsDat\": {\"Freq\": [41.18558744764306, 26.195426385889125, 16.495811681084326, 16.117195830886523, 0.005978654496948796], \"cluster\": [1, 1, 1, 1, 1], \"topics\": [1, 2, 3, 4, 5], \"x\": [0.04865833513989415, 0.10838571175920252, 0.059871818840650085, -0.17635045774388375, -0.040565407995862994], \"y\": [0.08914575455849219, 0.056771785290869015, -0.1474648302130101, 0.011777292834482948, -0.010230002470834202]}, \"tinfo\": {\"Category\": [\"Default\", \"Default\", \"Default\", \"Default\", \"Default\", \"Default\", \"Default\", \"Default\", \"Default\", \"Default\", \"Default\", \"Default\", \"Default\", \"Default\", \"Default\", \"Default\", \"Default\", \"Default\", \"Default\", \"Default\", \"Default\", \"Default\", \"Default\", \"Default\", \"Default\", \"Default\", \"Default\", \"Default\", \"Default\", \"Default\", \"Topic1\", \"Topic1\", \"Topic1\", \"Topic1\", \"Topic1\", \"Topic1\", \"Topic1\", \"Topic1\", \"Topic1\", \"Topic1\", \"Topic1\", \"Topic1\", \"Topic1\", \"Topic1\", \"Topic1\", \"Topic1\", \"Topic1\", \"Topic1\", \"Topic1\", \"Topic1\", \"Topic1\", \"Topic1\", \"Topic1\", \"Topic1\", \"Topic1\", \"Topic1\", \"Topic1\", \"Topic1\", \"Topic1\", \"Topic1\", \"Topic1\", \"Topic1\", \"Topic1\", \"Topic1\", \"Topic1\", \"Topic1\", \"Topic1\", \"Topic1\", \"Topic1\", \"Topic1\", \"Topic1\", \"Topic1\", \"Topic1\", \"Topic1\", \"Topic1\", \"Topic1\", \"Topic1\", \"Topic1\", \"Topic1\", \"Topic1\", \"Topic1\", \"Topic1\", \"Topic1\", \"Topic1\", \"Topic1\", \"Topic1\", \"Topic1\", \"Topic1\", \"Topic1\", \"Topic1\", \"Topic1\", \"Topic1\", \"Topic1\", \"Topic1\", \"Topic1\", \"Topic1\", \"Topic1\", \"Topic1\", \"Topic1\", \"Topic1\", \"Topic2\", \"Topic2\", \"Topic2\", \"Topic2\", \"Topic2\", \"Topic2\", \"Topic2\", \"Topic2\", \"Topic2\", \"Topic2\", \"Topic2\", \"Topic2\", \"Topic2\", \"Topic2\", \"Topic2\", \"Topic2\", \"Topic2\", \"Topic2\", \"Topic2\", \"Topic2\", \"Topic2\", \"Topic2\", \"Topic2\", \"Topic2\", \"Topic2\", \"Topic2\", \"Topic2\", \"Topic2\", \"Topic2\", \"Topic2\", \"Topic2\", \"Topic2\", \"Topic2\", \"Topic2\", \"Topic2\", \"Topic2\", \"Topic2\", \"Topic2\", \"Topic2\", \"Topic2\", \"Topic2\", \"Topic2\", \"Topic2\", \"Topic2\", \"Topic2\", \"Topic2\", \"Topic2\", \"Topic2\", \"Topic2\", \"Topic2\", \"Topic2\", \"Topic2\", \"Topic2\", \"Topic2\", \"Topic2\", \"Topic2\", \"Topic2\", \"Topic2\", \"Topic2\", \"Topic2\", \"Topic2\", \"Topic2\", \"Topic2\", \"Topic2\", \"Topic2\", \"Topic2\", \"Topic2\", \"Topic2\", \"Topic2\", \"Topic3\", \"Topic3\", \"Topic3\", \"Topic3\", \"Topic3\", \"Topic3\", \"Topic3\", \"Topic3\", \"Topic3\", \"Topic3\", \"Topic3\", \"Topic3\", \"Topic3\", \"Topic3\", \"Topic3\", \"Topic3\", \"Topic3\", \"Topic3\", \"Topic3\", \"Topic3\", \"Topic3\", \"Topic3\", \"Topic3\", \"Topic3\", \"Topic3\", \"Topic3\", \"Topic3\", \"Topic3\", \"Topic3\", \"Topic3\", \"Topic3\", \"Topic3\", \"Topic3\", \"Topic3\", \"Topic3\", \"Topic3\", \"Topic3\", \"Topic3\", \"Topic3\", \"Topic3\", \"Topic3\", \"Topic3\", \"Topic3\", \"Topic3\", \"Topic3\", \"Topic3\", \"Topic3\", \"Topic3\", \"Topic3\", \"Topic3\", \"Topic3\", \"Topic3\", \"Topic3\", \"Topic3\", \"Topic3\", \"Topic3\", \"Topic4\", \"Topic4\", \"Topic4\", \"Topic4\", \"Topic4\", \"Topic4\", \"Topic4\", \"Topic4\", \"Topic4\", \"Topic4\", \"Topic4\", \"Topic4\", \"Topic4\", \"Topic4\", \"Topic4\", \"Topic4\", \"Topic4\", \"Topic4\", \"Topic4\", \"Topic4\", \"Topic4\", \"Topic4\", \"Topic4\", \"Topic4\", \"Topic4\", \"Topic4\", \"Topic4\", \"Topic4\", \"Topic4\", \"Topic4\", \"Topic4\", \"Topic4\", \"Topic4\", \"Topic4\", \"Topic4\", \"Topic4\", \"Topic4\", \"Topic4\", \"Topic4\", \"Topic4\", \"Topic4\", \"Topic4\", \"Topic4\", \"Topic4\", \"Topic4\", \"Topic4\", \"Topic4\", \"Topic4\", \"Topic4\", \"Topic4\", \"Topic4\", \"Topic4\", \"Topic4\", \"Topic4\", \"Topic4\", \"Topic4\", \"Topic4\", \"Topic5\", \"Topic5\", \"Topic5\", \"Topic5\", \"Topic5\", \"Topic5\", \"Topic5\", \"Topic5\", \"Topic5\", \"Topic5\", \"Topic5\", \"Topic5\", \"Topic5\", \"Topic5\", \"Topic5\", \"Topic5\", \"Topic5\", \"Topic5\", \"Topic5\", \"Topic5\", \"Topic5\", \"Topic5\", \"Topic5\", \"Topic5\", \"Topic5\", \"Topic5\", \"Topic5\", \"Topic5\", \"Topic5\", \"Topic5\", \"Topic5\", \"Topic5\", \"Topic5\", \"Topic5\", \"Topic5\", \"Topic5\", \"Topic5\", \"Topic5\", \"Topic5\", \"Topic5\", \"Topic5\", \"Topic5\", \"Topic5\", \"Topic5\", \"Topic5\", \"Topic5\", \"Topic5\", \"Topic5\", \"Topic5\", \"Topic5\", \"Topic5\", \"Topic5\", \"Topic5\", \"Topic5\", \"Topic5\", \"Topic5\", \"Topic5\", \"Topic5\", \"Topic5\", \"Topic5\"], \"Freq\": [120.0, 65.0, 254.0, 55.0, 35.0, 77.0, 29.0, 29.0, 50.0, 177.0, 20.0, 21.0, 21.0, 21.0, 46.0, 27.0, 97.0, 15.0, 54.0, 16.0, 79.0, 35.0, 41.0, 13.0, 14.0, 14.0, 24.0, 42.0, 24.0, 64.0, 20.535660844862722, 75.4155011515859, 16.10987324722037, 11.684082615875457, 10.79892053768564, 9.913769158016825, 9.9137682856593, 9.028610609638351, 8.143453313917467, 8.143452402932537, 8.143450379080551, 8.143449663463329, 20.535667921197973, 7.2582946203312275, 7.2582946069140934, 7.258294415358803, 7.258293468773101, 7.258292825397425, 7.258292040234635, 43.549819966908984, 6.373137452309766, 6.373136914113298, 6.3731363892338795, 6.373136144608283, 6.373136228014208, 6.373136383918444, 6.373134645210536, 6.3731338197686895, 5.487979453382291, 5.487978956487555, 14.33956527459317, 30.272444268346728, 17.880217777290632, 20.53568746976738, 78.95611179252778, 33.813063724869124, 45.32009899252005, 21.420824280595806, 10.798932566925188, 86.9225216049422, 17.880201502734653, 42.6646127195398, 53.286475645645666, 9.913773221045226, 17.880204183498385, 11.684082431063306, 16.995056771821474, 14.339554258075038, 14.339566742942054, 32.042716327296745, 20.53568268142815, 27.616926322201486, 44.43484984396781, 19.650522542796306, 28.502077903155385, 55.0566802590384, 31.157525645130846, 29.3872067585762, 16.109873456462136, 22.305953252501137, 21.420813980319213, 33.812923302081515, 57.711778976822295, 24.96142040019187, 22.305968422894463, 22.305965282696533, 37.35322468571491, 20.535650053012933, 23.19104706314461, 21.420763152699635, 9.30536347202992, 9.30536329663911, 9.305361434467478, 8.474527286555263, 8.474527391663822, 5.982019155437655, 14.29039421438706, 5.151181803525984, 4.320348448841768, 4.320347883931343, 4.320347646681692, 4.3203472956918825, 4.32034755917496, 4.3203466203127325, 4.3203463855927655, 4.320346232091753, 4.320346113512132, 11.797906362262587, 10.136246114274137, 3.4895116730613664, 3.4895117865334284, 3.4895116405036153, 3.489511317125722, 3.489511175286579, 3.4895109791047765, 3.4895108572104845, 3.489510767618451, 3.4895108318470047, 3.4895104010900733, 3.489510549114432, 44.20065462560098, 13.459581881323569, 12.628761293463558, 8.474561770207725, 8.474549321565474, 11.797904916475508, 14.290452279806253, 7.643721834772037, 7.6437152730081745, 10.967071565891734, 15.9521223768624, 167.16500378239277, 10.136237314776473, 25.09134329854269, 6.812865670191038, 18.444644262836775, 94.88193447989264, 27.583860822034953, 15.1212777352598, 26.75300224615256, 15.121286423883713, 24.260516961167472, 15.121275066749813, 20.937139725822487, 40.877321816634534, 14.290382678520617, 13.459593633081678, 22.598822559259276, 19.275458345064266, 24.260506143098105, 15.95211549285168, 13.45958483697646, 13.459593422422339, 15.952101542006849, 14.290436271608764, 23.429674795634956, 14.290435934112873, 15.952128779931163, 13.459596661458141, 19.798563455402018, 63.627700952074726, 12.997530583603144, 34.156453908038785, 28.110990582712375, 9.219178447524799, 7.70783724468092, 6.952166608586304, 6.196497620023557, 6.196497379044742, 6.196497146176071, 5.440826859673733, 5.440826962385215, 5.440827037819533, 5.440826399825694, 5.440825743213418, 5.44082550421255, 14.508935784416854, 4.68515691741737, 4.68515652457708, 4.6851558705306235, 4.685155777717893, 4.6851562669587, 19.79859585805684, 3.9294858697518222, 3.929485981225836, 3.9294861527876006, 3.9294858489565305, 3.929486238860351, 3.929485880783549, 47.00294572033788, 14.5089654238113, 12.241876209316562, 12.24190927263813, 12.997609461353377, 6.1965082911087785, 16.02032261306908, 7.70788440681308, 6.952203266010879, 9.219221521902366, 9.219223542832706, 21.310018007919947, 9.219227224474945, 18.28734010751445, 9.974917312977835, 11.486237548205493, 9.21922761298433, 23.576970296553906, 16.775963689654844, 9.974850170417723, 12.997609845317154, 9.97489572050174, 21.309875118854823, 15.264583179105477, 10.73058281688221, 9.219215044058412, 28.701818844436712, 116.61124576268166, 8.415192765864495, 19.685633896197515, 6.912480138794299, 6.1611221785005315, 5.409767398542973, 5.409766884860904, 5.409766630846722, 12.92335707366576, 4.65841116111558, 4.658410746352501, 4.658410888842939, 4.6584107565569575, 4.6584098728224586, 4.6584100296618365, 12.923393483620575, 18.93426572661874, 11.420673196983463, 3.9070543819646177, 3.9070543647651284, 3.907053882884921, 3.907054025941993, 3.907053624504234, 3.907053960156622, 3.9070539012058174, 3.907054160946201, 3.155697623941408, 3.1556977450952273, 3.1556977707369787, 8.41523172566147, 7.663872133497384, 9.917972624741392, 6.161152625923349, 18.182889249082656, 12.17207154268576, 5.409791224897085, 11.420663619932045, 6.16114896010602, 10.669339551085363, 6.16117685224244, 9.16661923719009, 15.1775250172185, 7.6638581712775915, 12.17204068130383, 21.939709992249583, 11.420689577817178, 8.415253297402051, 12.172039627925802, 7.66387792659795, 10.669306690394405, 9.166599943226593, 8.415255867845213, 6.912524151051114, 8.41522728100997, 7.6638830942388, 8.415240697158627, 0.00022414847907866313, 0.00022414845666104486, 0.00022414844743132669, 0.00022414844427727198, 0.00022414844483753478, 0.00022414843355375312, 0.0002241484245961467, 0.00022414842226844717, 0.00022414841944183255, 0.00022414841967612902, 0.00022414841518271782, 0.0002241484153691299, 0.00022414841446499433, 0.0002241484131966682, 0.00022414841330006024, 0.00022414841083885203, 0.00022414840929825306, 0.00022414840788899558, 0.00022414840566601968, 0.00022414840462371032, 0.00022414840524907193, 0.00022414840197007745, 0.00022414840155947406, 0.0002241483939995813, 0.00022414839517812343, 0.00022414839104782948, 0.00022414839222191534, 0.00022414839018268466, 0.00022414838814692378, 0.00022414838661045475, 0.00022424754701986764, 0.00022423047132184856, 0.00022422649289479277, 0.0002242139244599221, 0.00022419477120731943, 0.000224194745563829, 0.00022419167071700835, 0.0002241891768859152, 0.00022418101053075476, 0.00022418100079805512, 0.00022418056212050613, 0.00022417825280431945, 0.00022417704713749992, 0.00022417665897031346, 0.00022417611893957003, 0.00022417594204854363, 0.00022417520407169348, 0.00022417312922536108, 0.00022417294592401996, 0.00022416965459567148, 0.00022416925178594046, 0.0002241679540342291, 0.0002241678402111507, 0.00022416752856114597, 0.00022416734361185782, 0.00022416707576704132, 0.00022416687755336248, 0.0002241668659457116, 0.00022416574635087451, 0.0002241653858772453], \"Term\": [\"landscape\", \"volcanoes\", \"earth\", \"volcanic\", \"lava\", \"animals\", \"landscapes\", \"volcano\", \"sun\", \"s\", \"eruption\", \"painting\", \"eruptions\", \"poetry\", \"zone\", \"century\", \"ocean\", \"ash\", \"nature\", \"active\", \"life\", \"moon\", \"land\", \"erupted\", \"chinese\", \"cultural\", \"activity\", \"solar\", \"plate\", \"years\", \"body\", \"animals\", \"phyla\", \"sponges\", \"flora\", \"deuterostomes\", \"ctenophora\", \"worms\", \"protostomes\", \"tissues\", \"certain\", \"possible\", \"currents\", \"kingdom\", \"inbreeding\", \"disease\", \"studies\", \"thermocline\", \"separate\", \"zone\", \"clades\", \"sister\", \"phylum\", \"digestive\", \"fungi\", \"bacteria\", \"fish\", \"org\", \"porifera\", \"prey\", \"salinity\", \"animal\", \"groups\", \"plants\", \"ocean\", \"species\", \"nature\", \"organisms\", \"biological\", \"water\", \"liquid\", \"oceans\", \"life\", \"titan\", \"depth\", \"science\", \"living\", \"group\", \"various\", \"natural\", \"part\", \"called\", \"also\", \"generally\", \"world\", \"surface\", \"human\", \"may\", \"thought\", \"000\", \"several\", \"can\", \"earth\", \"within\", \"known\", \"two\", \"s\", \"include\", \"years\", \"million\", \"gravitational\", \"axial\", \"tilt\", \"magnetosphere\", \"pole\", \"poles\", \"day\", \"radius\", \"leading\", \"bya\", \"29\", \"21\", \"velocity\", \"hours\", \"height\", \"station\", \"15\", \"magnetic\", \"rotation\", \"23\", \"sidereal\", \"sovereign\", \"asteroid\", \"humid\", \"lowercase\", \"ma\", \"equinox\", \"july\", \"center\", \"orbits\", \"sun\", \"orbit\", \"hemisphere\", \"mya\", \"loss\", \"8\", \"km\", \"km2\", \"axis\", \"mean\", \"year\", \"earth\", \"7\", \"moon\", \"diameter\", \"5\", \"s\", \"solar\", \"crust\", \"atmosphere\", \"field\", \"1\", \"4\", \"land\", \"surface\", \"plate\", \"due\", \"years\", \"million\", \"life\", \"3\", \"approximately\", \"heat\", \"energy\", \"planet\", \"water\", \"temperature\", \"oceans\", \"2\", \"eruption\", \"volcanoes\", \"erupted\", \"lava\", \"volcano\", \"cones\", \"lavas\", \"shield\", \"dormant\", \"erupt\", \"stratovolcanoes\", \"mud\", \"explosive\", \"domes\", \"cinder\", \"volcanism\", \"eruptive\", \"ash\", \"crater\", \"decade\", \"tuya\", \"mafic\", \"hawaiian\", \"eruptions\", \"mons\", \"aerosols\", \"erupting\", \"caldera\", \"pyroclastic\", \"felsic\", \"volcanic\", \"active\", \"mount\", \"flows\", \"extinct\", \"silica\", \"activity\", \"flow\", \"vents\", \"magma\", \"gases\", \"can\", \"since\", \"years\", \"new\", \"formed\", \"high\", \"s\", \"also\", \"plate\", \"may\", \"however\", \"earth\", \"surface\", \"large\", \"plates\", \"landscapes\", \"landscape\", \"topographical\", \"painting\", \"archaeology\", \"architecture\", \"picturesque\", \"management\", \"painters\", \"cultural\", \"scenery\", \"genre\", \"work\", \"pastoral\", \"poet\", \"french\", \"chinese\", \"poetry\", \"garden\", \"sublime\", \"figures\", \"aboriginal\", \"poem\", \"18th\", \"romanticism\", \"school\", \"style\", \"setting\", \"terms\", \"poems\", \"artists\", \"john\", \"gardens\", \"works\", \"century\", \"english\", \"england\", \"art\", \"paintings\", \"people\", \"view\", \"term\", \"human\", \"created\", \"land\", \"s\", \"natural\", \"area\", \"also\", \"physical\", \"can\", \"many\", \"within\", \"processes\", \"surface\", \"nature\", \"earth\", \"1853\", \"slower\", \"rules\", \"officials\", \"roots\", \"farmland\", \"techniques\", \"continuing\", \"plath\", \"raw\", \"1950s\", \"pope\", \"affiliated\", \"versailles\", \"alexander\", \"decorating\", \"landschaftskunde\", \"contrasting\", \"resource\", \"brings\", \"claude\", \"glimpse\", \"sylvia\", \"parkways\", \"mythological\", \"sites\", \"rainforests\", \"champions\", \"auden\", \"caspar\", \"earth\", \"landscape\", \"s\", \"volcanoes\", \"water\", \"surface\", \"also\", \"can\", \"ocean\", \"volcanic\", \"lava\", \"life\", \"years\", \"animals\", \"oceans\", \"within\", \"natural\", \"many\", \"nature\", \"may\", \"large\", \"called\", \"form\", \"volcano\", \"one\", \"world\", \"atmosphere\", \"land\", \"solar\", \"sun\"], \"Total\": [120.0, 65.0, 254.0, 55.0, 35.0, 77.0, 29.0, 29.0, 50.0, 177.0, 20.0, 21.0, 21.0, 21.0, 46.0, 27.0, 97.0, 15.0, 54.0, 16.0, 79.0, 35.0, 41.0, 13.0, 14.0, 14.0, 24.0, 42.0, 24.0, 64.0, 21.003478899230338, 77.5449979011766, 16.57768680520662, 12.151891946853613, 11.266731919916051, 10.381575371529784, 10.38157544587674, 9.496415788279885, 8.6112579494173, 8.61125735926693, 8.611257440399717, 8.61125721481, 21.8343158813814, 7.726098493948211, 7.726098826149526, 7.726098639854173, 7.726098864398677, 7.726098786384667, 7.726098562705246, 46.43064726576251, 6.840940368226745, 6.840940243959904, 6.840939796277769, 6.8409400278239705, 6.840940239017142, 6.8409407919160365, 6.840940064298763, 6.840939741999612, 5.955781201749446, 5.955781260740919, 15.638206405728623, 33.984098661455015, 19.930201005233734, 23.42082894487395, 97.85672314727053, 39.94639544778204, 54.963165414804976, 25.211986566141626, 12.097570716068903, 124.23003001090954, 21.59618712710912, 59.67402595237038, 79.35134526537603, 11.137247684169907, 22.42702750145829, 13.654606079347547, 22.134264445803243, 17.812797543889925, 17.825739868325392, 51.108097736047256, 28.923085056298444, 43.711390446399925, 84.35011006314208, 27.737256984566045, 46.53732107062878, 119.61403673053395, 56.54740716225535, 52.11515592007654, 21.262044995180247, 36.4470300244628, 34.34226230632082, 77.59035234642509, 254.60212282277553, 47.668093257631575, 38.475606993364885, 39.2269615860831, 177.75206368090392, 33.36899478754672, 64.97901601310603, 47.043258652118794, 9.784037717003148, 9.784038729829707, 9.78403782517994, 8.953200591762103, 8.953201046910014, 6.460689208399909, 15.520418783049525, 5.6298516715093925, 4.799015040946687, 4.799014907999054, 4.7990146610433255, 4.799014812685538, 4.7990151277549815, 4.799015002093179, 4.799014862455067, 4.799014978446368, 4.799014921074028, 13.161704792796133, 11.500031451276575, 3.968177593995867, 3.9681778180320486, 3.968177812796031, 3.9681778804410612, 3.9681778038772317, 3.9681777457351295, 3.968177722804954, 3.9681776974515577, 3.9681778151485676, 3.9681776270744265, 3.96817781927237, 50.616331692721154, 15.70853808137915, 14.748214016445738, 9.838357252959655, 9.838356458095156, 14.046863669352176, 17.29504699222799, 9.0075196674658, 9.007520454966903, 13.216026727027462, 19.712391079644515, 254.60212282277553, 12.385189860331225, 35.155940757536705, 8.047198720152958, 25.875028078142307, 177.75206368090392, 42.46270949618107, 23.545066605665845, 49.080349028269495, 23.657301577452177, 46.35012473415999, 25.20715583537631, 41.40388812868194, 119.61403673053395, 24.59278485772049, 22.40134593916942, 64.97901601310603, 47.043258652118794, 79.35134526537603, 33.87493427583713, 23.674965130704045, 23.912686174657484, 36.78938331381754, 28.284158751098808, 124.23003001090954, 31.69530470060026, 59.67402595237038, 24.301151276066655, 20.292280323158792, 65.70337416596531, 13.491239569841381, 35.53515761735537, 29.435494302345926, 9.712882013540888, 8.201541122583025, 7.4458691438406674, 6.690198573670514, 6.69019843130849, 6.690198709779179, 5.934527052749051, 5.934527551516169, 5.934527758974555, 5.934527260829193, 5.934526707647756, 5.934527187518091, 15.887726282825769, 5.178856676910988, 5.178856275121873, 5.178855781135612, 5.178855775614, 5.178856419388493, 21.953948998393162, 4.423184405180002, 4.423184656751981, 4.423184911398743, 4.423184940398539, 4.423185462632127, 4.423185127738342, 55.13690471885011, 16.718561047726233, 14.397238653901121, 14.50587715198897, 16.9232178577324, 7.521034380230956, 24.80112564020071, 9.917529638645878, 9.21618103382934, 14.138669396262998, 16.522533160620473, 77.59035234642509, 16.68550150225249, 64.97901601310603, 19.695242764812242, 28.037399680036525, 19.95452777404967, 177.75206368090392, 84.35011006314208, 24.59278485772049, 52.11515592007654, 26.48375223765045, 254.60212282277553, 119.61403673053395, 35.01372100171665, 24.77658656363111, 29.196402588383243, 120.38675637015761, 8.909757693142868, 21.065257737377333, 7.407043698598893, 6.655686120599263, 5.9043291227291, 5.904329488163358, 5.904329645662036, 14.24873428812916, 5.152972335309666, 5.1529721701287325, 5.152972571538315, 5.152972556407372, 5.152971893823249, 5.152972224704677, 14.303049209711135, 21.199061628887474, 12.800336250097383, 4.401615087817062, 4.401615302718895, 4.401614810795188, 4.401615206811486, 4.401614775444101, 4.401615155269744, 4.401615097621554, 4.401615470514978, 3.650257746663038, 3.650257990747429, 3.65025806067529, 9.794908466306618, 9.043553756451335, 12.053293004476014, 7.540840283092554, 27.59110946957426, 17.705872895556485, 6.789483851002316, 18.996448659119864, 8.425999811046498, 20.349137960136535, 9.127347095366295, 19.030236130119096, 56.54740716225535, 14.35410029662001, 41.40388812868194, 177.75206368090392, 51.108097736047256, 25.1428596029892, 84.35011006314208, 20.387651239888356, 77.59035234642509, 48.94921017577996, 47.668093257631575, 17.47751405180039, 119.61403673053395, 54.963165414804976, 254.60212282277553, 1.396186233844125, 1.3961862526187105, 1.3961862596447923, 1.3961862469317206, 1.3961862549648165, 1.396186267828651, 1.3961862789880255, 1.3961862794757205, 1.3961862689577589, 1.396186273670487, 1.3961862730213979, 1.3961862744695175, 1.3961862866226409, 1.3961862803437741, 1.396186284967981, 1.396186277900282, 1.396186284041526, 1.3961862850672782, 1.3961862729604262, 1.3961862823156796, 1.3961862867928982, 1.3961862893808878, 1.3961862932671927, 1.3961862974613666, 1.3961863049444463, 1.3961862853973972, 1.396186298551489, 1.396186297528255, 1.3961862848636075, 1.3961863007843924, 254.60212282277553, 120.38675637015761, 177.75206368090392, 65.70337416596531, 124.23003001090954, 119.61403673053395, 84.35011006314208, 77.59035234642509, 97.85672314727053, 55.13690471885011, 35.53515761735537, 79.35134526537603, 64.97901601310603, 77.5449979011766, 59.67402595237038, 47.668093257631575, 51.108097736047256, 48.94921017577996, 54.963165414804976, 52.11515592007654, 35.01372100171665, 43.711390446399925, 43.705937219232254, 29.435494302345926, 42.507478907001236, 46.53732107062878, 49.080349028269495, 41.40388812868194, 42.46270949618107, 50.616331692721154], \"loglift\": [30.0, 29.0, 28.0, 27.0, 26.0, 25.0, 24.0, 23.0, 22.0, 21.0, 20.0, 19.0, 18.0, 17.0, 16.0, 15.0, 14.0, 13.0, 12.0, 11.0, 10.0, 9.0, 8.0, 7.0, 6.0, 5.0, 4.0, 3.0, 2.0, 1.0, 0.8646, 0.8592, 0.8585, 0.8478, 0.8447, 0.841, 0.841, 0.8366, 0.8312, 0.8312, 0.8312, 0.8312, 0.8258, 0.8246, 0.8246, 0.8246, 0.8246, 0.8246, 0.8246, 0.823, 0.8162, 0.8162, 0.8162, 0.8162, 0.8162, 0.8162, 0.8162, 0.8162, 0.8053, 0.8053, 0.8004, 0.7714, 0.7785, 0.7556, 0.6725, 0.7204, 0.6942, 0.7241, 0.7735, 0.53, 0.6983, 0.5516, 0.4889, 0.7707, 0.6605, 0.7312, 0.6229, 0.6702, 0.6695, 0.4202, 0.5446, 0.4279, 0.2461, 0.5424, 0.3968, 0.1112, 0.2911, 0.3142, 0.6096, 0.3961, 0.4151, 0.0565, -0.5972, 0.2402, 0.3419, 0.3226, -0.6729, 0.4016, -0.1432, 0.1004, 1.2894, 1.2894, 1.2894, 1.2846, 1.2846, 1.2626, 1.257, 1.2507, 1.2345, 1.2345, 1.2345, 1.2345, 1.2345, 1.2345, 1.2345, 1.2345, 1.2345, 1.2302, 1.2134, 1.211, 1.211, 1.211, 1.211, 1.211, 1.211, 1.211, 1.211, 1.211, 1.211, 1.211, 1.2041, 1.1851, 1.1844, 1.1904, 1.1904, 1.1651, 1.1488, 1.1754, 1.1754, 1.1531, 1.1279, 0.9189, 1.1392, 1.0023, 1.1731, 1.0011, 0.7118, 0.9082, 0.8968, 0.7328, 0.892, 0.6922, 0.8286, 0.6577, 0.2659, 0.7967, 0.8302, 0.2834, 0.4474, 0.1545, 0.5865, 0.7749, 0.7649, 0.504, 0.6569, -0.3285, 0.543, 0.0203, 0.7488, 1.7774, 1.77, 1.7648, 1.7625, 1.756, 1.7499, 1.74, 1.7335, 1.7254, 1.7254, 1.7254, 1.7152, 1.7152, 1.7152, 1.7152, 1.7152, 1.7152, 1.7113, 1.7019, 1.7019, 1.7019, 1.7019, 1.7019, 1.6987, 1.6837, 1.6837, 1.6837, 1.6837, 1.6837, 1.6837, 1.6425, 1.6603, 1.6399, 1.6324, 1.5381, 1.6083, 1.365, 1.55, 1.5202, 1.3744, 1.2186, 0.5098, 1.2088, 0.5342, 1.1218, 0.9097, 1.0299, -0.2181, 0.187, 0.8997, 0.4134, 0.8256, -0.6785, -0.2567, 0.6194, 0.8135, 1.8082, 1.7934, 1.7682, 1.7575, 1.7562, 1.7481, 1.7378, 1.7378, 1.7378, 1.7277, 1.7244, 1.7244, 1.7244, 1.7244, 1.7244, 1.7244, 1.7238, 1.7123, 1.7112, 1.7061, 1.7061, 1.7061, 1.7061, 1.7061, 1.7061, 1.7061, 1.7061, 1.6797, 1.6797, 1.6797, 1.6735, 1.6597, 1.6303, 1.6232, 1.4083, 1.4505, 1.5981, 1.3165, 1.5122, 1.1796, 1.4323, 1.0948, 0.51, 1.1978, 0.6011, -0.2668, 0.3268, 0.7308, -0.1106, 0.8469, -0.1588, 0.1501, 0.0911, 0.8977, -0.8289, -0.1449, -1.5844, 0.9878, 0.9878, 0.9878, 0.9878, 0.9878, 0.9878, 0.9878, 0.9878, 0.9878, 0.9878, 0.9878, 0.9878, 0.9878, 0.9878, 0.9878, 0.9878, 0.9878, 0.9878, 0.9878, 0.9878, 0.9878, 0.9878, 0.9878, 0.9878, 0.9878, 0.9878, 0.9878, 0.9878, 0.9878, 0.9878, -4.2177, -3.4688, -3.8585, -2.8633, -3.5004, -3.4625, -3.1133, -3.0297, -3.2618, -2.6881, -2.2489, -3.0522, -2.8524, -3.0292, -2.7672, -2.5426, -2.6123, -2.5691, -2.685, -2.6318, -2.2341, -2.456, -2.4559, -2.0606, -2.4281, -2.5186, -2.5718, -2.4018, -2.427, -2.6027], \"logprob\": [30.0, 29.0, 28.0, 27.0, 26.0, 25.0, 24.0, 23.0, 22.0, 21.0, 20.0, 19.0, 18.0, 17.0, 16.0, 15.0, 14.0, 13.0, 12.0, 11.0, 10.0, 9.0, 8.0, 7.0, 6.0, 5.0, 4.0, 3.0, 2.0, 1.0, -5.9979, -4.697, -6.2406, -6.5618, -6.6406, -6.7261, -6.7261, -6.8197, -6.9228, -6.9228, -6.9228, -6.9228, -5.9979, -7.0379, -7.0379, -7.0379, -7.0379, -7.0379, -7.0379, -5.2461, -7.168, -7.168, -7.168, -7.168, -7.168, -7.168, -7.168, -7.168, -7.3175, -7.3175, -6.357, -5.6098, -6.1364, -5.9979, -4.6512, -5.4992, -5.2063, -5.9557, -6.6406, -4.555, -6.1364, -5.2667, -5.0444, -6.7261, -6.1364, -6.5618, -6.1871, -6.357, -6.357, -5.553, -5.9979, -5.7016, -5.226, -6.0419, -5.6701, -5.0117, -5.581, -5.6395, -6.2406, -5.9152, -5.9557, -5.4992, -4.9646, -5.8027, -5.9152, -5.9152, -5.3996, -5.9979, -5.8763, -5.9557, -6.337, -6.337, -6.337, -6.4305, -6.4305, -6.7788, -5.908, -6.9283, -7.1042, -7.1042, -7.1042, -7.1042, -7.1042, -7.1042, -7.1042, -7.1042, -7.1042, -6.0996, -6.2514, -7.3178, -7.3178, -7.3178, -7.3178, -7.3178, -7.3178, -7.3178, -7.3178, -7.3178, -7.3178, -7.3178, -4.7788, -5.9679, -6.0316, -6.4305, -6.4305, -6.0996, -5.908, -6.5337, -6.5337, -6.1726, -5.798, -3.4486, -6.2514, -5.345, -6.6487, -5.6528, -4.0149, -5.2503, -5.8514, -5.2809, -5.8514, -5.3787, -5.8514, -5.526, -4.857, -5.908, -5.9679, -5.4496, -5.6087, -5.3787, -5.798, -5.9679, -5.9679, -5.798, -5.908, -5.4135, -5.908, -5.798, -5.9679, -5.1195, -3.952, -5.5403, -4.5741, -4.7689, -5.8838, -6.0628, -6.166, -6.2811, -6.2811, -6.2811, -6.4111, -6.4111, -6.4111, -6.4111, -6.4111, -6.4111, -5.4303, -6.5607, -6.5607, -6.5607, -6.5607, -6.5607, -5.1195, -6.7366, -6.7366, -6.7366, -6.7366, -6.7366, -6.7366, -4.2549, -5.4303, -5.6002, -5.6002, -5.5403, -6.2811, -5.3312, -6.0628, -6.166, -5.8838, -5.8838, -5.0459, -5.8838, -5.1989, -5.805, -5.6639, -5.8838, -4.9448, -5.2851, -5.805, -5.5403, -5.805, -5.0459, -5.3795, -5.732, -5.8838, -4.7249, -3.323, -5.9518, -5.102, -6.1485, -6.2636, -6.3936, -6.3936, -6.3936, -5.5228, -6.5432, -6.5432, -6.5432, -6.5432, -6.5432, -6.5432, -5.5228, -5.1409, -5.6464, -6.7191, -6.7191, -6.7191, -6.7191, -6.7191, -6.7191, -6.7191, -6.7191, -6.9326, -6.9326, -6.9326, -5.9518, -6.0453, -5.7875, -6.2636, -5.1814, -5.5827, -6.3936, -5.6464, -6.2636, -5.7145, -6.2636, -5.8663, -5.362, -6.0453, -5.5827, -4.9935, -5.6464, -5.9518, -5.5827, -6.0453, -5.7145, -5.8663, -5.9518, -6.1485, -5.9518, -6.0453, -5.9518, -8.5856, -8.5856, -8.5856, -8.5856, -8.5856, -8.5856, -8.5856, -8.5856, -8.5856, -8.5856, -8.5856, -8.5856, -8.5856, -8.5856, -8.5856, -8.5856, -8.5856, -8.5856, -8.5856, -8.5856, -8.5856, -8.5856, -8.5856, -8.5856, -8.5856, -8.5856, -8.5856, -8.5856, -8.5856, -8.5856, -8.5852, -8.5852, -8.5853, -8.5853, -8.5854, -8.5854, -8.5854, -8.5854, -8.5855, -8.5855, -8.5855, -8.5855, -8.5855, -8.5855, -8.5855, -8.5855, -8.5855, -8.5855, -8.5855, -8.5855, -8.5855, -8.5855, -8.5855, -8.5855, -8.5855, -8.5855, -8.5855, -8.5855, -8.5855, -8.5855]}, \"token.table\": {\"Topic\": [1, 2, 3, 1, 2, 3, 2, 4, 4, 4, 1, 2, 3, 2, 2, 2, 1, 2, 3, 1, 2, 3, 1, 2, 3, 1, 2, 1, 2, 4, 1, 2, 3, 1, 2, 3, 4, 3, 4, 4, 1, 2, 3, 4, 1, 2, 4, 1, 2, 1, 2, 4, 4, 1, 2, 3, 4, 1, 4, 1, 4, 1, 3, 2, 1, 2, 3, 4, 2, 1, 2, 1, 1, 2, 1, 4, 2, 3, 1, 2, 3, 4, 1, 2, 3, 4, 4, 2, 2, 3, 4, 1, 4, 1, 4, 3, 1, 4, 3, 4, 4, 3, 2, 3, 4, 1, 2, 3, 1, 2, 4, 1, 2, 2, 4, 3, 4, 1, 2, 3, 1, 2, 3, 1, 1, 3, 3, 1, 2, 3, 1, 2, 3, 4, 1, 2, 1, 4, 1, 2, 4, 2, 3, 3, 3, 3, 2, 3, 3, 3, 1, 2, 3, 4, 3, 1, 2, 3, 4, 4, 1, 1, 1, 2, 3, 1, 3, 1, 2, 3, 4, 1, 2, 3, 4, 1, 1, 4, 1, 3, 4, 1, 2, 3, 1, 2, 3, 4, 4, 4, 2, 1, 4, 1, 2, 4, 3, 1, 2, 3, 2, 1, 2, 3, 1, 2, 3, 2, 1, 3, 4, 1, 2, 3, 4, 2, 1, 1, 2, 3, 4, 1, 4, 2, 1, 1, 2, 3, 1, 2, 1, 2, 3, 4, 1, 2, 4, 1, 3, 4, 4, 4, 1, 2, 3, 4, 1, 3, 3, 2, 1, 2, 4, 1, 2, 3, 1, 2, 3, 4, 1, 2, 2, 2, 3, 1, 3, 1, 2, 2, 4, 1, 2, 3, 4, 1, 2, 3, 4, 1, 2, 1, 2, 3, 3, 1, 2, 3, 2, 3, 3, 1, 2, 4, 1, 2, 3, 4, 1, 2, 4, 1, 2, 3, 4, 1, 2, 3, 1, 2, 3, 4, 1, 2, 3, 4, 1, 2, 2, 1, 1, 2, 4, 1, 4, 1, 4, 4, 1, 2, 3, 4, 4, 1, 2, 3, 4, 1, 1, 1, 2, 4, 4, 1, 2, 3, 1, 2, 3, 2, 3, 1, 2, 3, 4, 4, 4, 4, 1, 4, 2, 2, 4, 1, 1, 1, 1, 2, 3, 4, 1, 3, 2, 4, 4, 4, 4, 4, 1, 2, 4, 1, 2, 3, 4, 1, 2, 4, 4, 1, 4, 1, 4, 1, 2, 3, 4, 3, 2, 2, 3, 1, 2, 3, 1, 4, 4, 1, 2, 3, 2, 1, 2, 3, 1, 2, 3, 1, 4, 4, 1, 2, 3, 1, 2, 3, 4, 4, 4, 1, 2, 3, 1, 2, 3, 4, 4, 1, 1, 2, 3, 2, 1, 1, 3, 4, 3, 1, 2, 3, 4, 1, 3, 4, 2, 1, 3, 4, 1, 2, 3, 4, 1, 2, 3, 3, 2, 3, 2, 3, 4, 1, 2, 3, 4, 1, 2, 3, 4, 4, 1, 4, 1, 2, 3, 4, 1, 1, 2, 3, 1, 2, 3, 4, 1, 2, 4], \"Freq\": [0.6036157125898564, 0.24693370060494121, 0.13718538922496734, 0.4099233844347569, 0.5177979592860087, 0.06472474491075109, 0.8335043890850818, 0.7162368284112758, 0.9087574001967084, 0.7162368083135237, 0.3703528239365261, 0.5349540790194266, 0.08230062754145025, 0.8335044079102545, 0.7560145504927027, 0.8335044342478386, 0.47232563965187513, 0.47232563965187513, 0.05904070495648439, 0.35704147103217376, 0.5950691183869563, 0.039671274559130415, 0.23188380634332317, 0.6956514190299695, 0.03864730105722053, 0.16148319263201935, 0.8074159631600967, 0.14238053754046562, 0.8542832252427937, 0.9087573928981231, 0.05981376011639486, 0.05981376011639486, 0.8972064017459229, 0.1612830021519793, 0.12096225161398448, 0.6451320086079172, 0.08064150107598965, 0.904325799261853, 0.7162368013361519, 0.7162368021849844, 0.5216353596582489, 0.13040883991456223, 0.20154093441341434, 0.14226418899770424, 0.8827657987594708, 0.08827657987594709, 0.029425526625315696, 0.9671803730729357, 0.025791476615278284, 0.42238710573774013, 0.5491032374590622, 0.9450464024296374, 0.9014848193381712, 0.39772723381118963, 0.19886361690559481, 0.07954544676223792, 0.31818178704895167, 0.36848992807081454, 0.5790556012541371, 0.10209385860418067, 0.8167508688334454, 0.06294166844257475, 0.9441250266386211, 0.7560144959193592, 0.30562129848262165, 0.550118337268719, 0.14262327262522342, 0.7162368022385275, 0.9198655328868109, 0.11101834350524097, 0.8881467480419277, 0.8770723475768452, 0.9092734614387477, 0.08266122376715887, 0.9998343655711975, 0.7162368035456022, 0.8335043913559745, 0.9043257412699527, 0.6405653014935397, 0.13726399317718707, 0.18301865756958277, 0.04575466439239569, 0.4381988091534491, 0.1546584032306291, 0.27065220565360093, 0.14177020296141, 0.716236794071242, 0.7560145441905977, 0.2537049120014242, 0.07248711771469263, 0.6523840594322337, 0.9290164712145288, 0.7162367957416247, 0.06991516181885499, 0.9088971036451149, 0.8425270927648216, 0.8770724018977633, 0.7162368012488106, 0.9266044812912329, 0.7162368050024874, 0.7162368021340454, 0.96546406126503, 0.13933300998815956, 0.3483325249703989, 0.5573320399526382, 0.12741522673280886, 0.6370761336640444, 0.2123587112213481, 0.9632449383173062, 0.07018167226496148, 0.9123617394444993, 0.9617887784570874, 0.045799465640813684, 0.902037515591394, 0.064431251113671, 0.9654641361682383, 0.7162368058106797, 0.802603019897736, 0.13376716998295599, 0.04458905666098533, 0.9632449452155201, 0.8698679184434192, 0.12426684549191702, 0.8770724455405781, 0.9060200142787878, 0.8425270220429409, 0.8968343665632269, 0.26784104920717383, 0.58032227328221, 0.0892803497357246, 0.22780642736577997, 0.6559254029325043, 0.08248163749450653, 0.03142157618838344, 0.5708168528096179, 0.4349080783311375, 0.1472866011533958, 0.736433005766979, 0.05647843548289352, 0.22591374193157407, 0.6777412257947222, 0.756014530782394, 0.8968343856471386, 0.9635882553787342, 0.9043257471989975, 0.9855964771576103, 0.09109978346703741, 0.9109978346703741, 0.8425271031728268, 0.842527051495883, 0.11818083397692469, 0.11818083397692469, 0.7681754208500106, 0.7162368109773778, 0.9043257029680952, 0.16908099120706177, 0.6340537170264816, 0.08454049560353089, 0.12681074340529633, 0.9087572913355659, 0.8770724408641689, 0.9763257063528287, 0.10083156153154066, 0.10083156153154066, 0.8066524922523253, 0.13787515081263255, 0.8272509048757952, 0.4804839190305525, 0.20592167958452248, 0.1601613063435175, 0.1601613063435175, 0.17833322836854057, 0.42799974808449737, 0.3923331024107893, 0.9703137882305499, 0.8770724184636406, 0.07812294774618848, 0.8593524252080733, 0.08296487935941224, 0.08296487935941224, 0.8296487935941224, 0.1815702211541115, 0.242093628205482, 0.5447106634623344, 0.721051833320385, 0.03605259166601925, 0.18026295833009626, 0.0721051833320385, 0.970313798507297, 0.7162367999211845, 0.9198656281096902, 0.7859517835704715, 0.1684182393365296, 0.9031519549287608, 0.05017510860715338, 0.05017510860715338, 0.9654641092734499, 0.2509128399953144, 0.5436444866565145, 0.16727522666354294, 0.8335043992661633, 0.06780482022330973, 0.8814626629030264, 0.06780482022330973, 0.2505696980964073, 0.30068363771568873, 0.45102545657353316, 0.8335043750134822, 0.4531079996640461, 0.3775899997200384, 0.1887949998600192, 0.5482125804822418, 0.1591584911077476, 0.017684276789749733, 0.26526415184624597, 0.7560145105062471, 0.9060199924324042, 0.6293267188209453, 0.08990381697442075, 0.1498396949573679, 0.1498396949573679, 0.11057599998083023, 0.8846079998466418, 0.75601450835884, 0.9060200313888106, 0.11564004427965738, 0.8094803099576016, 0.05782002213982869, 0.11101835321125007, 0.8881468256900006, 0.5717908492982033, 0.18193345204942835, 0.18193345204942835, 0.05198098629983667, 0.19321856863143527, 0.5071987426575176, 0.2898278529471529, 0.016613123073525846, 0.016613123073525846, 0.971867699801262, 0.9932730552064182, 0.7162368026602512, 0.4284034821453162, 0.1428011607151054, 0.31416255357323186, 0.11424092857208432, 0.028141144349718605, 0.9567989078904325, 0.9754264327190801, 0.8335043682653123, 0.6679155825619745, 0.3024523392733469, 0.025204361606112242, 0.8334804608821471, 0.13891341014702452, 0.04630447004900817, 0.7680399789938932, 0.09035764458751684, 0.04517882229375842, 0.09035764458751684, 0.10164299334541636, 0.8131439467633309, 0.7560145215834406, 0.7560145259520821, 0.9654642292886029, 0.3536400675244273, 0.6365521215439691, 0.07597799948737154, 0.9117359938484584, 0.8935352132466294, 0.8468362089249417, 0.3881574377149233, 0.2451520659252147, 0.18386404944391105, 0.18386404944391105, 0.5564600064609652, 0.07675310433944348, 0.2494475891031913, 0.09594138042430435, 0.15133141308725534, 0.8323227719799043, 0.4463976476479521, 0.40388358596719476, 0.12754218504227202, 0.9043258506960709, 0.11377877860209111, 0.7111173662630694, 0.17066816790313666, 0.13891552735066134, 0.8334931641039681, 0.8425271223060395, 0.10164298513343493, 0.8131438810674795, 0.7162367919371545, 0.6261238711185674, 0.11739822583473139, 0.03913274194491046, 0.21523008069700755, 0.818730137909392, 0.03638800612930631, 0.14555202451722524, 0.253868411763528, 0.1015473647054112, 0.507736823527056, 0.1015473647054112, 0.8073027325992522, 0.12262826317963325, 0.07153315352145273, 0.7205815145490775, 0.2681233542508195, 0.01675770964067622, 0.7162368216974023, 0.39992962267164706, 0.2352527192186159, 0.18820217537489273, 0.16467690345303113, 0.12731929538184036, 0.8275754199819624, 0.756014507573176, 0.8770724821859337, 0.8329371406298423, 0.11899102008997746, 0.8468361863354876, 0.04747152930512884, 0.9494305861025767, 0.23736055599930075, 0.7120816679979023, 0.7162367957759381, 0.7260636256168299, 0.13829783345082475, 0.06914891672541237, 0.06914891672541237, 0.9703137257703496, 0.2457106541709471, 0.14742639250256825, 0.09828426166837884, 0.5405634391760836, 0.9651527494761702, 0.8770724752269661, 0.4904929892284522, 0.14714789676853565, 0.3923943913827618, 0.8468362613378332, 0.3535547968034054, 0.4949767155247676, 0.14142191872136217, 0.8966377769731421, 0.0853940739974421, 0.04269703699872105, 0.5692726578545633, 0.40662332703897375, 0.08072136954231406, 0.5246889020250414, 0.3632461629404133, 0.7162368103981509, 0.9087573111366056, 0.8218597014603966, 0.9703138505361123, 0.09434379856109508, 0.8962660863304033, 0.8935351678225758, 0.9286934886449977, 0.7162368075706453, 0.8395204307591596, 0.9290164955520392, 0.8395204224437859, 0.28608187555626313, 0.1716491253337579, 0.11443275022250526, 0.4005146257787684, 0.9290164162997042, 0.9043256344986492, 0.888122865705887, 0.7162367952167106, 0.716236807980544, 0.7162368083448019, 0.9087573217779118, 0.7162368175764627, 0.08695628392294473, 0.8695628392294473, 0.7162368151756577, 0.2081551079284316, 0.5344523041405675, 0.13501952946709075, 0.12376790201149987, 0.8952433314137285, 0.06394595224383774, 0.9703137674034352, 0.9087573336799554, 0.8788243271367512, 0.14647072118945853, 0.906020023325847, 0.8218597721606138, 0.6114914565816147, 0.1164745631584028, 0.1747118447376042, 0.0582372815792014, 0.9401185898882608, 0.7560145078094811, 0.13296043462166596, 0.7977626077299957, 0.2996613556580853, 0.11986454226323413, 0.5393904401845536, 0.8770724178299324, 0.716236801964696, 0.7162368187800038, 0.259050826725725, 0.6594021043927546, 0.09420030062753637, 0.7560145088070436, 0.8511406253023462, 0.10013419121204073, 0.050067095606020365, 0.9875005515587273, 0.8335043791205168, 0.8968343483175912, 0.9060199879470233, 0.9087572566923958, 0.9087573357041906, 0.09878234618726868, 0.8692846464479643, 0.03951293847490747, 0.45981225534511294, 0.34276913580272056, 0.125403342366849, 0.06688178259565279, 0.716236797927529, 0.7162368052526725, 0.4101553880866714, 0.4417058025548769, 0.15775207234102745, 0.3152877325838232, 0.1050959108612744, 0.1050959108612744, 0.47293159887573477, 0.8218597172047334, 0.9060199970955282, 0.7525146336406933, 0.09406432920508666, 0.14109649380762998, 0.9198656179392356, 0.9290164799674545, 0.8978879058435281, 0.08978879058435281, 0.8978919826469539, 0.9654642282592406, 0.5608387473937093, 0.17844869235254388, 0.17844869235254388, 0.0764780110082331, 0.7853811456587358, 0.11219730652267655, 0.056098653261338276, 0.8335043531882411, 0.21700962607599694, 0.7595336912659894, 0.7162368045571801, 0.10956086029725688, 0.10956086029725688, 0.10956086029725688, 0.6573651617835413, 0.054410018395072604, 0.09068336399178767, 0.8524236215228042, 0.8425271713002079, 0.033972590700483085, 0.9512325396135264, 0.015219918500289215, 0.9740747840185098, 0.015219918500289215, 0.7003137646538433, 0.18514042054067123, 0.07244625151591483, 0.04024791750884157, 0.5244598281891115, 0.272719110658338, 0.04195678625512892, 0.16782714502051568, 0.9703137229211667, 0.13261121605268805, 0.7956672963161283, 0.6231557668733718, 0.23636942881403758, 0.021488129892185234, 0.1289287793531114, 0.9477259842716088, 0.10145902604708606, 0.8116722083766885, 0.10145902604708606, 0.3539604230904479, 0.3539604230904479, 0.27701250502730707, 0.015389583612628169, 0.9476499379418549, 0.04307499717917523, 0.021537498589587614], \"Term\": [\"000\", \"000\", \"000\", \"1\", \"1\", \"1\", \"15\", \"1853\", \"18th\", \"1950s\", \"2\", \"2\", \"2\", \"21\", \"23\", \"29\", \"3\", \"3\", \"3\", \"4\", \"4\", \"4\", \"5\", \"5\", \"5\", \"7\", \"7\", \"8\", \"8\", \"aboriginal\", \"active\", \"active\", \"active\", \"activity\", \"activity\", \"activity\", \"activity\", \"aerosols\", \"affiliated\", \"alexander\", \"also\", \"also\", \"also\", \"also\", \"animal\", \"animal\", \"animal\", \"animals\", \"animals\", \"approximately\", \"approximately\", \"archaeology\", \"architecture\", \"area\", \"area\", \"area\", \"area\", \"art\", \"art\", \"artists\", \"artists\", \"ash\", \"ash\", \"asteroid\", \"atmosphere\", \"atmosphere\", \"atmosphere\", \"auden\", \"axial\", \"axis\", \"axis\", \"bacteria\", \"biological\", \"biological\", \"body\", \"brings\", \"bya\", \"caldera\", \"called\", \"called\", \"called\", \"called\", \"can\", \"can\", \"can\", \"can\", \"caspar\", \"center\", \"century\", \"century\", \"century\", \"certain\", \"champions\", \"chinese\", \"chinese\", \"cinder\", \"clades\", \"claude\", \"cones\", \"continuing\", \"contrasting\", \"crater\", \"created\", \"created\", \"created\", \"crust\", \"crust\", \"crust\", \"ctenophora\", \"cultural\", \"cultural\", \"currents\", \"currents\", \"day\", \"day\", \"decade\", \"decorating\", \"depth\", \"depth\", \"depth\", \"deuterostomes\", \"diameter\", \"diameter\", \"digestive\", \"disease\", \"domes\", \"dormant\", \"due\", \"due\", \"due\", \"earth\", \"earth\", \"earth\", \"earth\", \"energy\", \"energy\", \"england\", \"england\", \"english\", \"english\", \"english\", \"equinox\", \"erupt\", \"erupted\", \"erupting\", \"eruption\", \"eruptions\", \"eruptions\", \"eruptive\", \"explosive\", \"extinct\", \"extinct\", \"extinct\", \"farmland\", \"felsic\", \"field\", \"field\", \"field\", \"field\", \"figures\", \"fish\", \"flora\", \"flow\", \"flow\", \"flow\", \"flows\", \"flows\", \"form\", \"form\", \"form\", \"form\", \"formed\", \"formed\", \"formed\", \"french\", \"fungi\", \"garden\", \"garden\", \"gardens\", \"gardens\", \"gardens\", \"gases\", \"gases\", \"gases\", \"generally\", \"generally\", \"generally\", \"generally\", \"genre\", \"glimpse\", \"gravitational\", \"group\", \"group\", \"groups\", \"groups\", \"groups\", \"hawaiian\", \"heat\", \"heat\", \"heat\", \"height\", \"hemisphere\", \"hemisphere\", \"hemisphere\", \"high\", \"high\", \"high\", \"hours\", \"however\", \"however\", \"however\", \"human\", \"human\", \"human\", \"human\", \"humid\", \"inbreeding\", \"include\", \"include\", \"include\", \"include\", \"john\", \"john\", \"july\", \"kingdom\", \"km\", \"km\", \"km\", \"km2\", \"km2\", \"known\", \"known\", \"known\", \"known\", \"land\", \"land\", \"land\", \"landscape\", \"landscape\", \"landscape\", \"landscapes\", \"landschaftskunde\", \"large\", \"large\", \"large\", \"large\", \"lava\", \"lava\", \"lavas\", \"leading\", \"life\", \"life\", \"life\", \"liquid\", \"liquid\", \"liquid\", \"living\", \"living\", \"living\", \"living\", \"loss\", \"loss\", \"lowercase\", \"ma\", \"mafic\", \"magma\", \"magma\", \"magnetic\", \"magnetic\", \"magnetosphere\", \"management\", \"many\", \"many\", \"many\", \"many\", \"may\", \"may\", \"may\", \"may\", \"mean\", \"mean\", \"million\", \"million\", \"million\", \"mons\", \"moon\", \"moon\", \"moon\", \"mount\", \"mount\", \"mud\", \"mya\", \"mya\", \"mythological\", \"natural\", \"natural\", \"natural\", \"natural\", \"nature\", \"nature\", \"nature\", \"new\", \"new\", \"new\", \"new\", \"ocean\", \"ocean\", \"ocean\", \"oceans\", \"oceans\", \"oceans\", \"officials\", \"one\", \"one\", \"one\", \"one\", \"orbit\", \"orbit\", \"orbits\", \"org\", \"organisms\", \"organisms\", \"painters\", \"painting\", \"painting\", \"paintings\", \"paintings\", \"parkways\", \"part\", \"part\", \"part\", \"part\", \"pastoral\", \"people\", \"people\", \"people\", \"people\", \"phyla\", \"phylum\", \"physical\", \"physical\", \"physical\", \"picturesque\", \"planet\", \"planet\", \"planet\", \"plants\", \"plants\", \"plants\", \"plate\", \"plate\", \"plates\", \"plates\", \"plates\", \"plath\", \"poem\", \"poems\", \"poet\", \"poetry\", \"poetry\", \"pole\", \"poles\", \"pope\", \"porifera\", \"possible\", \"prey\", \"processes\", \"processes\", \"processes\", \"processes\", \"protostomes\", \"pyroclastic\", \"radius\", \"rainforests\", \"raw\", \"resource\", \"romanticism\", \"roots\", \"rotation\", \"rotation\", \"rules\", \"s\", \"s\", \"s\", \"s\", \"salinity\", \"salinity\", \"scenery\", \"school\", \"science\", \"science\", \"separate\", \"setting\", \"several\", \"several\", \"several\", \"several\", \"shield\", \"sidereal\", \"silica\", \"silica\", \"since\", \"since\", \"since\", \"sister\", \"sites\", \"slower\", \"solar\", \"solar\", \"solar\", \"sovereign\", \"species\", \"species\", \"species\", \"sponges\", \"station\", \"stratovolcanoes\", \"studies\", \"style\", \"sublime\", \"sun\", \"sun\", \"sun\", \"surface\", \"surface\", \"surface\", \"surface\", \"sylvia\", \"techniques\", \"temperature\", \"temperature\", \"temperature\", \"term\", \"term\", \"term\", \"term\", \"terms\", \"thermocline\", \"thought\", \"thought\", \"thought\", \"tilt\", \"tissues\", \"titan\", \"titan\", \"topographical\", \"tuya\", \"two\", \"two\", \"two\", \"two\", \"various\", \"various\", \"various\", \"velocity\", \"vents\", \"vents\", \"versailles\", \"view\", \"view\", \"view\", \"view\", \"volcanic\", \"volcanic\", \"volcanic\", \"volcanism\", \"volcano\", \"volcano\", \"volcanoes\", \"volcanoes\", \"volcanoes\", \"water\", \"water\", \"water\", \"water\", \"within\", \"within\", \"within\", \"within\", \"work\", \"works\", \"works\", \"world\", \"world\", \"world\", \"world\", \"worms\", \"year\", \"year\", \"year\", \"years\", \"years\", \"years\", \"years\", \"zone\", \"zone\", \"zone\"]}, \"R\": 30, \"lambda.step\": 0.01, \"plot.opts\": {\"xlab\": \"PC1\", \"ylab\": \"PC2\"}, \"topic.order\": [2, 1, 4, 3, 5]};\n",
       "\n",
       "function LDAvis_load_lib(url, callback){\n",
       "  var s = document.createElement('script');\n",
       "  s.src = url;\n",
       "  s.async = true;\n",
       "  s.onreadystatechange = s.onload = callback;\n",
       "  s.onerror = function(){console.warn(\"failed to load library \" + url);};\n",
       "  document.getElementsByTagName(\"head\")[0].appendChild(s);\n",
       "}\n",
       "\n",
       "if(typeof(LDAvis) !== \"undefined\"){\n",
       "   // already loaded: just create the visualization\n",
       "   !function(LDAvis){\n",
       "       new LDAvis(\"#\" + \"ldavis_el1633222320521657527849686302\", ldavis_el1633222320521657527849686302_data);\n",
       "   }(LDAvis);\n",
       "}else if(typeof define === \"function\" && define.amd){\n",
       "   // require.js is available: use it to load d3/LDAvis\n",
       "   require.config({paths: {d3: \"https://cdnjs.cloudflare.com/ajax/libs/d3/3.5.5/d3.min\"}});\n",
       "   require([\"d3\"], function(d3){\n",
       "      window.d3 = d3;\n",
       "      LDAvis_load_lib(\"https://cdn.rawgit.com/bmabey/pyLDAvis/files/ldavis.v1.0.0.js\", function(){\n",
       "        new LDAvis(\"#\" + \"ldavis_el1633222320521657527849686302\", ldavis_el1633222320521657527849686302_data);\n",
       "      });\n",
       "    });\n",
       "}else{\n",
       "    // require.js not available: dynamically load d3 & LDAvis\n",
       "    LDAvis_load_lib(\"https://cdnjs.cloudflare.com/ajax/libs/d3/3.5.5/d3.min.js\", function(){\n",
       "         LDAvis_load_lib(\"https://cdn.rawgit.com/bmabey/pyLDAvis/files/ldavis.v1.0.0.js\", function(){\n",
       "                 new LDAvis(\"#\" + \"ldavis_el1633222320521657527849686302\", ldavis_el1633222320521657527849686302_data);\n",
       "            })\n",
       "         });\n",
       "}\n",
       "</script>"
      ],
      "text/plain": [
       "<IPython.core.display.HTML object>"
      ]
     },
     "execution_count": 8,
     "metadata": {},
     "output_type": "execute_result"
    }
   ],
   "source": [
    "pyLDAvis.display(vis_data)"
   ]
  }
 ],
 "metadata": {
  "kernelspec": {
   "display_name": "Python 3",
   "language": "python",
   "name": "python3"
  },
  "language_info": {
   "codemirror_mode": {
    "name": "ipython",
    "version": 3
   },
   "file_extension": ".py",
   "mimetype": "text/x-python",
   "name": "python",
   "nbconvert_exporter": "python",
   "pygments_lexer": "ipython3",
   "version": "3.6.3"
  },
  "widgets": {
   "application/vnd.jupyter.widget-state+json": {
    "state": {},
    "version_major": 2,
    "version_minor": 0
   }
  }
 },
 "nbformat": 4,
 "nbformat_minor": 2
}
